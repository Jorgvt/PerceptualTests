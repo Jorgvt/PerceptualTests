{
 "cells": [
  {
   "cell_type": "code",
   "execution_count": 69,
   "metadata": {},
   "outputs": [],
   "source": [
    "import os\n",
    "os.environ[\"CUDA_VISIBLE_DEVICES\"]=\"2\"\n",
    "from tqdm.auto import tqdm\n",
    "\n",
    "import numpy as np\n",
    "import matplotlib.pyplot as plt\n",
    "import scipy.io as sio\n",
    "import tensorflow as tf\n",
    "import tensorflow_probability as tfp\n",
    "from tensorflow.keras.utils import get_file\n",
    "\n",
    "from perceptnet.networks import PerceptNet\n",
    "from perceptualtests.color_matrices import *\n",
    "from perceptualtests.colored_squares import create_colored_square"
   ]
  },
  {
   "cell_type": "code",
   "execution_count": 2,
   "metadata": {},
   "outputs": [],
   "source": [
    "path_cmf = '/media/disk/vista/Papers/A_Vision_Talks/psycho_paper/vision_py/cmf_ciexyz.mat'"
   ]
  },
  {
   "cell_type": "markdown",
   "metadata": {},
   "source": [
    "# Load the CMF data"
   ]
  },
  {
   "cell_type": "code",
   "execution_count": 3,
   "metadata": {},
   "outputs": [
    {
     "data": {
      "text/plain": [
       "array([[3.8000000e+02, 2.6899001e-03, 1.9999999e-04, 1.2260000e-02],\n",
       "       [3.8100000e+02, 3.2147770e-03, 2.3911201e-04, 1.4654440e-02],\n",
       "       [3.8200000e+02, 3.7392753e-03, 2.7822400e-04, 1.7047860e-02],\n",
       "       ...,\n",
       "       [8.2300000e+02, 1.9235094e-06, 7.4575200e-07, 1.8017809e-10],\n",
       "       [8.2400000e+02, 1.7805264e-06, 6.9069603e-07, 1.6752065e-10],\n",
       "       [8.2500000e+02, 1.6377001e-06, 6.3563999e-07, 1.5476000e-10]],\n",
       "      dtype=float32)"
      ]
     },
     "execution_count": 3,
     "metadata": {},
     "output_type": "execute_result"
    }
   ],
   "source": [
    "T_lambda = sio.loadmat(path_cmf)['T_lambda'].astype(np.float32)\n",
    "T_lambda"
   ]
  },
  {
   "cell_type": "markdown",
   "metadata": {},
   "source": [
    "# Functions"
   ]
  },
  {
   "cell_type": "code",
   "execution_count": 4,
   "metadata": {},
   "outputs": [],
   "source": [
    "def background_stimulus_tf(lambdas, background):\n",
    "    \"\"\"\n",
    "    Generates a quasi-monochromatic spectrum. Gaussian centered in central lambda with desired width and peak on max_radiance over a background.\n",
    "    \"\"\"\n",
    "    spectrum = tf.cast(tf.ones_like(lambdas, dtype=tf.float32)*background, tf.float32)\n",
    "    return spectrum\n",
    "\n",
    "def monochomatic_stimulus_2_tf(central_lambda, lambdas, width, max_radiance, background):\n",
    "    \"\"\"\n",
    "    Generates a quasi-monochromatic spectrum. Gaussian centered in central lambda with desired width and peak on max_radiance over a background.\n",
    "    \"\"\"\n",
    "    spectrum = max_radiance*tf.cast(tf.exp(-(lambdas-central_lambda)**2/width**2), tf.float32) + background_stimulus_tf(lambdas, background)\n",
    "    return spectrum\n",
    "\n",
    "def atd2nrgb_tf(atd, gamma):\n",
    "    \"\"\"\n",
    "    Changes from atd to nrgb values (ready to be displayed in the screen). \n",
    "    Expects and atd color column vector or images.\n",
    "\n",
    "    Parameters\n",
    "    ----------\n",
    "    gamma: \n",
    "        Expects only the number, i.e. 2.2\n",
    "    \"\"\"\n",
    "    rgb = Mxyz2ng @ Matd2xyz @ atd\n",
    "\n",
    "    if tf.reduce_min(rgb) < 0 or tf.reduce_max(rgb) > 1:\n",
    "        sat = 1\n",
    "        rgb = tf.clip_by_value(rgb, 0, 1)\n",
    "    else:\n",
    "        sat = 0\n",
    "\n",
    "    if type(gamma) == list:\n",
    "        rgb = tf.pow(rgb, 1/gamma[:,None])\n",
    "    elif type(gamma) == float:\n",
    "        rgb = rgb**(1/gamma)\n",
    "    else:\n",
    "        print('Error')\n",
    "    return rgb\n",
    "\n",
    "def xyz2nrgb_tf(xyz, gamma):\n",
    "    \"\"\"\n",
    "    Changes from xyz to nrgb values (ready to be displayed in the screen). Expects and xyz color column vector or images.\n",
    "    \"\"\"\n",
    "    rgb = Mxyz2ng @ xyz\n",
    "    rgb_2 = rgb\n",
    "\n",
    "    if tf.reduce_min(rgb) < 0 or tf.reduce_max(rgb) > 1:\n",
    "        sat = 1\n",
    "        rgb = tf.clip_by_value(rgb, 0, 1)\n",
    "    else:\n",
    "        sat = 0\n",
    "\n",
    "    if type(gamma) == list:\n",
    "        rgb = tf.pow(rgb, 1/gamma[:,None])\n",
    "    elif type(gamma) == float:\n",
    "        rgb = rgb**(1/gamma)\n",
    "    else:\n",
    "        print('Error')\n",
    "    return sat, rgb, rgb_2\n",
    "\n",
    "\n",
    "def norm_spectrum_luminance_tf(lambdas, spectrum, luminance):\n",
    "    \"\"\"\n",
    "    Normalize a spectrum with a desired luminance. Returns the original luminance and the new lambdas and normalized spectrum after the interpolation.\n",
    "    \"\"\"\n",
    "    V_l = T_lambda[:,2]\n",
    "    lambdas_Y = T_lambda[:,0]\n",
    "\n",
    "    min_abs, max_abs = np.min(np.concatenate([lambdas_Y, lambdas])), np.max(np.concatenate([lambdas_Y, lambdas]))\n",
    "    new_lambda = np.arange(min_abs, max_abs, 1, dtype=np.float32)\n",
    "\n",
    "    interpol_spectrum = tfp.math.interp_regular_1d_grid(new_lambda, lambdas[0], lambdas[-1], \n",
    "                                                        spectrum, fill_value='extrapolate')\n",
    "                                                        # fill_value_below=spectrum[0], fill_value_above=spectrum[-1])\n",
    "    interpol_V_l = tfp.math.interp_regular_1d_grid(new_lambda, lambdas_Y[0], lambdas_Y[-1], \n",
    "                                                            V_l, fill_value='extrapolate')\n",
    "                                                            # fill_value_below=V_l[0], fill_value_above=V_l[-1])\n",
    "    Y = km*tfp.math.trapz(y=interpol_spectrum*interpol_V_l, x=new_lambda)\n",
    "    interpol_spectrum = luminance * interpol_spectrum/Y\n",
    "    return Y, new_lambda, interpol_spectrum\n",
    "\n",
    "\n",
    "def spect2tri_xyz_tf(lambdas, spectrum, lambdas_reflectance = None, reflectance = None, spectrum_luminance = None):\n",
    "    \"\"\"\n",
    "    Calculates the tristimulus values of a spectrum. It needs the wavelengths and the spectrum. Reflectance with its wavelenghts are optional.\n",
    "    Spectrum_luminance is optional and it normalizes the spectrum with the desired luminance.\n",
    "    \"\"\"\n",
    "    lambdas_Y = T_lambda[:,0]\n",
    "\n",
    "    if spectrum_luminance is not None:\n",
    "        Y, lambdas, spectrum = norm_spectrum_luminance_tf(lambdas, spectrum, spectrum_luminance)\n",
    "\n",
    "    if (reflectance is not None) and (lambdas_reflectance is not None):\n",
    "        min_abs, max_abs = np.min(np.concatenate([lambdas_Y, lambdas, lambdas_reflectance])), np.max(np.concatenate([lambdas_Y, lambdas, lambdas_reflectance]))\n",
    "        new_lambda = np.arange(min_abs, max_abs, 1, dtype=np.float32)\n",
    "\n",
    "        interpol_reflectance = tfp.math.interp_regular_1d_grid(new_lambda, lambdas_reflectance[0], lambdas_reflectance[-1], \n",
    "                                                               reflectance, fill_value='extrapolate')\n",
    "                                                            #    fill_value_below=reflectance[0], fill_value_above=reflectance[-1])\n",
    "        interpol_spectrum = tfp.math.interp_regular_1d_grid(new_lambda, lambdas[0], lambdas[-1], \n",
    "                                                            spectrum, fill_value='extrapolate')\n",
    "                                                            # fill_value_below=spectrum[0], fill_value_above=spectrum[-1])\n",
    "\n",
    "        interpol_spectrum = interpol_spectrum*interpol_reflectance\n",
    "\n",
    "    else:\n",
    "        min_abs, max_abs = np.min(np.concatenate([lambdas_Y, lambdas])), np.max(np.concatenate([lambdas_Y, lambdas]))\n",
    "        new_lambda = np.arange(min_abs, max_abs, 1, dtype=np.float32)\n",
    "\n",
    "        interpol_spectrum = tfp.math.interp_regular_1d_grid(new_lambda, lambdas[0], lambdas[-1], \n",
    "                                                            spectrum, fill_value='extrapolate')\n",
    "                                                            # fill_value_below=spectrum[0], fill_value_above=spectrum[-1])\n",
    "\n",
    "    tristimulus_values = np.zeros((3,1))\n",
    "    for i in range(3):\n",
    "        T_i = T_lambda[:,i+1]\n",
    "        T_i = tfp.math.interp_regular_1d_grid(new_lambda, lambdas_Y[0], lambdas_Y[-1], \n",
    "                                              T_i, fill_value='extrapolate')\n",
    "                                            #   fill_value_below=T_i[0], fill_value_above=T_i[-1])\n",
    "\n",
    "        tristimulus_values[i,0] = km*tfp.math.trapz(y=interpol_spectrum*T_i, x=new_lambda)\n",
    "\n",
    "    return tristimulus_values\n",
    "\n",
    "\n",
    "def generate_images_rgb_tf(weights, central_lambdas, spectrum_lambda, spectrum_white, shape=(1,384,512,3)):\n",
    "    # spectrums = np.array([monochomatic_stimulus_2(central_lambdas[i], lambdas, width=5, max_radiance=max_radiance*tf.abs(weights[i]), background=background) for i in range(len(central_lambdas))])\n",
    "\n",
    "    for i in range(len(central_lambdas)):\n",
    "        spectrum = monochomatic_stimulus_2_tf(central_lambdas[i], lambdas, width=5, max_radiance=max_radiance*tf.abs(weights[i]), background=background)\n",
    "        if weights[i] >= 0:\n",
    "            spectrum_lambda = spectrum_lambda + spectrum\n",
    "        else:\n",
    "            spectrum_white = spectrum_white + spectrum\n",
    "\n",
    "    tristimulus_xyz_lambda = spect2tri_xyz_tf(tf.cast(lambdas, tf.float32), tf.cast(spectrum_lambda, tf.float32),\n",
    "                                            lambdas_reflectance=None, reflectance=None, spectrum_luminance=None)\n",
    "    tristimulus_xyz_white = spect2tri_xyz_tf(tf.cast(lambdas, tf.float32), tf.cast(spectrum_white, tf.float32),\n",
    "                                            lambdas_reflectance=None, reflectance=None, \n",
    "                                            spectrum_luminance=tristimulus_xyz_lambda[1,0].item())\n",
    "\n",
    "    sat, rgb_lambda = xyz2nrgb_tf(tristimulus_xyz_lambda, gamma)\n",
    "    sat, rgb_white = xyz2nrgb_tf(tristimulus_xyz_white, gamma)\n",
    "\n",
    "    img_lambda = tf.ones(shape, dtype=tf.float32)*tf.cast(tf.transpose(rgb_lambda, perm=[1,0]), tf.float32)\n",
    "    img_white = tf.ones(shape, dtype=tf.float32)*tf.cast(tf.transpose(rgb_white, perm=[1,0]), tf.float32)\n",
    "\n",
    "    return img_lambda, img_white"
   ]
  },
  {
   "cell_type": "markdown",
   "metadata": {},
   "source": [
    "# Generate the spectrum"
   ]
  },
  {
   "cell_type": "code",
   "execution_count": 13,
   "metadata": {},
   "outputs": [],
   "source": [
    "central_lambdas = tf.constant([475., 500., 580., 700.], dtype=tf.float32)\n",
    "norm_grads = False\n",
    "learning_rate = 3e-4\n",
    "losses = []\n",
    "gradients = []\n",
    "lambdas = tf.convert_to_tensor(np.linspace(380,770,300), dtype=tf.float32)\n",
    "central_lambda=tf.constant(550, dtype=tf.float32)\n",
    "km = 683\n",
    "width = tf.constant(np.inf, dtype=tf.float32)\n",
    "max_radiance=tf.constant(1.5e-3, dtype=tf.float32)\n",
    "background=tf.constant(0.5e-4, dtype=tf.float32)"
   ]
  },
  {
   "cell_type": "code",
   "execution_count": 6,
   "metadata": {},
   "outputs": [],
   "source": [
    "spectrum_lambda = monochomatic_stimulus_2_tf(central_lambda=central_lambda, \n",
    "                                             lambdas=lambdas, \n",
    "                                             width=5, \n",
    "                                             max_radiance=max_radiance, \n",
    "                                             background=background)"
   ]
  },
  {
   "cell_type": "code",
   "execution_count": 9,
   "metadata": {},
   "outputs": [
    {
     "data": {
      "image/png": "[encoded data removed]",
      "text/plain": [
       "<Figure size 432x288 with 1 Axes>"
      ]
     },
     "metadata": {
      "needs_background": "light"
     },
     "output_type": "display_data"
    }
   ],
   "source": [
    "plt.plot(lambdas, spectrum_lambda)\n",
    "plt.xlabel(r'$\\lambda$')\n",
    "plt.show()"
   ]
  },
  {
   "cell_type": "code",
   "execution_count": 14,
   "metadata": {},
   "outputs": [
    {
     "data": {
      "text/plain": [
       "(3, 1)"
      ]
     },
     "execution_count": 14,
     "metadata": {},
     "output_type": "execute_result"
    }
   ],
   "source": [
    "xyz = spect2tri_xyz_tf(lambdas, spectrum_lambda, lambdas_reflectance = None, reflectance = None, spectrum_luminance = None)\n",
    "xyz.shape"
   ]
  },
  {
   "cell_type": "code",
   "execution_count": 30,
   "metadata": {},
   "outputs": [],
   "source": [
    "def xyz2nrgb(xyz):\n",
    "    \"\"\"\n",
    "    xyz is expected to be a column vector.\n",
    "    \"\"\"\n",
    "    return (Mxyz2ng @ xyz)**(1/2)"
   ]
  },
  {
   "cell_type": "code",
   "execution_count": 31,
   "metadata": {},
   "outputs": [
    {
     "data": {
      "text/plain": [
       "((3, 1),\n",
       " array([[0.16153093],\n",
       "        [0.31413593],\n",
       "        [0.11695624]]))"
      ]
     },
     "execution_count": 31,
     "metadata": {},
     "output_type": "execute_result"
    }
   ],
   "source": [
    "rgb = xyz2nrgb(xyz)\n",
    "rgb.shape, rgb"
   ]
  },
  {
   "cell_type": "code",
   "execution_count": 53,
   "metadata": {},
   "outputs": [],
   "source": [
    "img_size = (384,512)\n",
    "square_size = (96,128)"
   ]
  },
  {
   "cell_type": "code",
   "execution_count": 33,
   "metadata": {},
   "outputs": [],
   "source": [
    "def image_from_column(column_vector, img_size):\n",
    "    return np.ones(shape=(*img_size, 3)) * column_vector[None,None,:,0]"
   ]
  },
  {
   "cell_type": "code",
   "execution_count": 34,
   "metadata": {},
   "outputs": [
    {
     "data": {
      "text/plain": [
       "(384, 512, 3)"
      ]
     },
     "execution_count": 34,
     "metadata": {},
     "output_type": "execute_result"
    }
   ],
   "source": [
    "img = image_from_column(rgb, img_size)\n",
    "img.shape"
   ]
  },
  {
   "cell_type": "code",
   "execution_count": 35,
   "metadata": {},
   "outputs": [
    {
     "data": {
      "image/png": "[encoded data removed]",
      "text/plain": [
       "<Figure size 432x288 with 1 Axes>"
      ]
     },
     "metadata": {
      "needs_background": "light"
     },
     "output_type": "display_data"
    }
   ],
   "source": [
    "plt.imshow(img)\n",
    "plt.show()"
   ]
  },
  {
   "cell_type": "markdown",
   "metadata": {},
   "source": [
    "## Generate the background"
   ]
  },
  {
   "cell_type": "code",
   "execution_count": 48,
   "metadata": {},
   "outputs": [],
   "source": [
    "spectrum_white = monochomatic_stimulus_2_tf(central_lambda=central_lambda, \n",
    "                                            lambdas=lambdas, \n",
    "                                            width=np.inf, \n",
    "                                            max_radiance=0, \n",
    "                                            background=background)\n",
    "xyz_bg = spect2tri_xyz_tf(lambdas, spectrum_white, lambdas_reflectance = None, reflectance = None, spectrum_luminance = None)\n",
    "rgb_bg = xyz2nrgb(xyz_bg)\n",
    "img_bg = image_from_column(rgb_bg, img_size) "
   ]
  },
  {
   "cell_type": "code",
   "execution_count": 51,
   "metadata": {},
   "outputs": [
    {
     "data": {
      "image/png": "[encoded data removed]",
      "text/plain": [
       "<Figure size 432x288 with 1 Axes>"
      ]
     },
     "metadata": {
      "needs_background": "light"
     },
     "output_type": "display_data"
    }
   ],
   "source": [
    "plt.imshow(img_bg)\n",
    "plt.show()"
   ]
  },
  {
   "cell_type": "markdown",
   "metadata": {},
   "source": [
    "# Cycling through all the lambdas"
   ]
  },
  {
   "cell_type": "code",
   "execution_count": null,
   "metadata": {},
   "outputs": [],
   "source": [
    "central_lambdas = tf.constant([475., 500., 580., 700.], dtype=tf.float32)\n",
    "norm_grads = False\n",
    "learning_rate = 3e-4\n",
    "losses = []\n",
    "gradients = []\n",
    "lambdas = tf.convert_to_tensor(np.linspace(380,770,300), dtype=tf.float32)\n",
    "central_lambda=tf.constant(550, dtype=tf.float32)\n",
    "km = 683\n",
    "width = tf.constant(np.inf, dtype=tf.float32)\n",
    "max_radiance=tf.constant(1.5e-3, dtype=tf.float32)\n",
    "background=tf.constant(0.5e-4, dtype=tf.float32)"
   ]
  },
  {
   "cell_type": "code",
   "execution_count": 58,
   "metadata": {},
   "outputs": [],
   "source": [
    "colored_square = create_colored_square(img_size=img_size,\n",
    "                                       square_size=square_size,\n",
    "                                       square_color=rgb.ravel(),\n",
    "                                       bg_color=rgb_bg.ravel())"
   ]
  },
  {
   "cell_type": "code",
   "execution_count": 59,
   "metadata": {},
   "outputs": [
    {
     "data": {
      "image/png": "[encoded data removed]",
      "text/plain": [
       "<Figure size 432x288 with 1 Axes>"
      ]
     },
     "metadata": {
      "needs_background": "light"
     },
     "output_type": "display_data"
    }
   ],
   "source": [
    "plt.imshow(colored_square)\n",
    "plt.show()"
   ]
  },
  {
   "cell_type": "code",
   "execution_count": 61,
   "metadata": {},
   "outputs": [
    {
     "data": {
      "image/png": "[encoded data removed]",
      "text/plain": [
       "<Figure size 432x288 with 2 Axes>"
      ]
     },
     "metadata": {
      "needs_background": "light"
     },
     "output_type": "display_data"
    },
    {
     "data": {
      "image/png": "[encoded data removed]",
      "text/plain": [
       "<Figure size 432x288 with 2 Axes>"
      ]
     },
     "metadata": {
      "needs_background": "light"
     },
     "output_type": "display_data"
    },
    {
     "data": {
      "image/png": "[encoded data removed]",
      "text/plain": [
       "<Figure size 432x288 with 2 Axes>"
      ]
     },
     "metadata": {
      "needs_background": "light"
     },
     "output_type": "display_data"
    }
   ],
   "source": [
    "for central_lambda in [450, 550, 650]:\n",
    "    \n",
    "    spectrum_lambda = monochomatic_stimulus_2_tf(central_lambda=central_lambda, \n",
    "                                                lambdas=lambdas, \n",
    "                                                width=5, \n",
    "                                                max_radiance=max_radiance, \n",
    "                                                background=background)\n",
    "    xyz = spect2tri_xyz_tf(lambdas, spectrum_lambda, lambdas_reflectance = None, reflectance = None, spectrum_luminance = None)\n",
    "    rgb = xyz2nrgb(xyz)\n",
    "    img = create_colored_square(img_size=img_size,\n",
    "                                square_size=square_size,\n",
    "                                square_color=rgb.ravel(),\n",
    "                                bg_color=rgb_bg.ravel())                                     \n",
    "    fig, axes = plt.subplots(1, 2)\n",
    "    axes[0].plot(lambdas, spectrum_lambda)\n",
    "    axes[0].set_xlabel(r'$\\lambda$')\n",
    "    axes[1].imshow(img)\n",
    "    axes[1].axis('off')\n",
    "    plt.suptitle(central_lambda)\n",
    "    plt.show()"
   ]
  },
  {
   "cell_type": "markdown",
   "metadata": {},
   "source": [
    "# Load the model"
   ]
  },
  {
   "cell_type": "code",
   "execution_count": 75,
   "metadata": {},
   "outputs": [],
   "source": [
    "class FakeNetwork():\n",
    "    def __call__(self, X):\n",
    "        return X\n",
    "    def predict(self, X):\n",
    "        return self(X)"
   ]
  },
  {
   "cell_type": "code",
   "execution_count": 76,
   "metadata": {},
   "outputs": [],
   "source": [
    "model = FakeNetwork()"
   ]
  },
  {
   "cell_type": "markdown",
   "metadata": {},
   "source": [
    "## Get the response to the background"
   ]
  },
  {
   "cell_type": "code",
   "execution_count": 77,
   "metadata": {},
   "outputs": [
    {
     "data": {
      "text/plain": [
       "(1, 384, 512, 3)"
      ]
     },
     "execution_count": 77,
     "metadata": {},
     "output_type": "execute_result"
    }
   ],
   "source": [
    "response_bg = model.predict(img_bg[None,:,:,:])\n",
    "response_bg.shape"
   ]
  },
  {
   "cell_type": "markdown",
   "metadata": {},
   "source": [
    "## Create and pass the stimuli"
   ]
  },
  {
   "cell_type": "code",
   "execution_count": 78,
   "metadata": {},
   "outputs": [
    {
     "data": {
      "application/vnd.jupyter.widget-view+json": {
       "model_id": "9d4dd7ceef4241de9a00eb08816e4e6a",
       "version_major": 2,
       "version_minor": 0
      },
      "text/plain": [
       "  0%|          | 0/300 [00:00<?, ?it/s]"
      ]
     },
     "metadata": {},
     "output_type": "display_data"
    },
    {
     "name": "stderr",
     "output_type": "stream",
     "text": [
      "/tmp/ipykernel_16614/1043697726.py:5: RuntimeWarning: invalid value encountered in sqrt\n",
      "  return (Mxyz2ng @ xyz)**(1/2)\n"
     ]
    }
   ],
   "source": [
    "visses = []\n",
    "for central_lambda in tqdm(lambdas):\n",
    "    ## Obtain the spectrum\n",
    "    spectrum_lambda = monochomatic_stimulus_2_tf(central_lambda=central_lambda, \n",
    "                                                lambdas=lambdas, \n",
    "                                                width=5, \n",
    "                                                max_radiance=max_radiance, \n",
    "                                                background=background)\n",
    "    ## Get its corresponding tristimulus values\n",
    "    xyz = spect2tri_xyz_tf(lambdas, spectrum_lambda, lambdas_reflectance = None, reflectance = None, spectrum_luminance = None)\n",
    "    rgb = xyz2nrgb(xyz)\n",
    "    ## Build an image to pass through PerceptNet\n",
    "    img = create_colored_square(img_size=img_size,\n",
    "                                square_size=square_size,\n",
    "                                square_color=rgb.ravel(),\n",
    "                                bg_color=rgb_bg.ravel())                                      \n",
    "    ## Get the response\n",
    "    response = model.predict(img[None,:,:,:])\n",
    "    ## Difference respect to the background\n",
    "    vis = np.sqrt(np.sum((response_bg - response)**2))\n",
    "    visses.append(vis)\n"
   ]
  },
  {
   "cell_type": "code",
   "execution_count": 79,
   "metadata": {},
   "outputs": [
    {
     "data": {
      "image/png": "[encoded data removed]",
      "text/plain": [
       "<Figure size 432x288 with 1 Axes>"
      ]
     },
     "metadata": {
      "needs_background": "light"
     },
     "output_type": "display_data"
    }
   ],
   "source": [
    "plt.plot(lambdas, visses, '-o')\n",
    "plt.xlabel(r'$\\lambda$')\n",
    "plt.ylabel('Visibility')\n",
    "plt.title(r'V($\\lambda$)')\n",
    "plt.show()"
   ]
  }
 ],
 "metadata": {
  "kernelspec": {
   "display_name": "Python 3.8.12 ('tf26')",
   "language": "python",
   "name": "python3"
  },
  "language_info": {
   "codemirror_mode": {
    "name": "ipython",
    "version": 3
   },
   "file_extension": ".py",
   "mimetype": "text/x-python",
   "name": "python",
   "nbconvert_exporter": "python",
   "pygments_lexer": "ipython3",
   "version": "3.8.12"
  },
  "orig_nbformat": 4,
  "vscode": {
   "interpreter": {
    "hash": "0e5e7d3ec6da8cae83531001485d926ded04fa3b6e3dfe28c110c78c0ec74159"
   }
  }
 },
 "nbformat": 4,
 "nbformat_minor": 2
}
