{
 "cells": [
  {
   "cell_type": "markdown",
   "metadata": {},
   "source": [
    "# Receptive fields\n",
    "\n",
    "We will obtain the receptive fields of any given model by building deltas as inputs to calculate the differential response of the model."
   ]
  },
  {
   "cell_type": "markdown",
   "metadata": {},
   "source": [
    "## Importing libraries"
   ]
  },
  {
   "cell_type": "code",
   "execution_count": 2,
   "metadata": {},
   "outputs": [],
   "source": [
    "from tqdm.auto import tqdm\n",
    "\n",
    "import numpy as np\n",
    "import matplotlib.pyplot as plt\n",
    "import tensorflow as tf\n",
    "from perceptualtests.receptive_fields import *"
   ]
  },
  {
   "cell_type": "markdown",
   "metadata": {},
   "source": [
    "## Define a `tf.data.Dataset` from the deltas generator\n",
    "\n",
    "> We will create a only-background image to calculate the differences at each step."
   ]
  },
  {
   "cell_type": "code",
   "execution_count": 3,
   "metadata": {},
   "outputs": [],
   "source": [
    "img_height, img_width, channels, fov = 384, 512, 3, 32"
   ]
  },
  {
   "cell_type": "code",
   "execution_count": 9,
   "metadata": {},
   "outputs": [],
   "source": [
    "bg_gain = 0.5\n",
    "delta_gain = 0.05\n",
    "background = np.zeros(shape=(img_height,img_width,channels)) + bg_gain\n",
    "deltas_dataset = tf.data.Dataset.from_generator(obtain_receptive_field_gen, \n",
    "                                                args=(img_height,img_width,channels,fov, bg_gain, delta_gain),\n",
    "                                                output_signature=(\n",
    "                                                    tf.TensorSpec(shape=(img_height,img_width,channels), dtype=tf.float32)\n",
    "                                                    )\n",
    "                                                )"
   ]
  },
  {
   "cell_type": "markdown",
   "metadata": {},
   "source": [
    "## Passing the deltas through the network"
   ]
  },
  {
   "cell_type": "markdown",
   "metadata": {},
   "source": [
    "As an example we'll use a fake model that we can override at any time:"
   ]
  },
  {
   "cell_type": "code",
   "execution_count": 11,
   "metadata": {},
   "outputs": [],
   "source": [
    "class FakeNetwork():\n",
    "    def __call__(self, X):\n",
    "        return X\n",
    "    def predict(self, X):\n",
    "        return self(X)"
   ]
  },
  {
   "cell_type": "code",
   "execution_count": 12,
   "metadata": {},
   "outputs": [],
   "source": [
    "model = FakeNetwork()"
   ]
  },
  {
   "cell_type": "markdown",
   "metadata": {},
   "source": [
    "### Keeping only one channel"
   ]
  },
  {
   "cell_type": "code",
   "execution_count": 6,
   "metadata": {},
   "outputs": [
    {
     "name": "stderr",
     "output_type": "stream",
     "text": [
      "2022-05-04 08:13:37.521913: I tensorflow/compiler/mlir/mlir_graph_optimization_pass.cc:185] None of the MLIR Optimization Passes are enabled (registered 2)\n"
     ]
    },
    {
     "data": {
      "application/vnd.jupyter.widget-view+json": {
       "model_id": "8656d66cd91b4136a21d25670c228096",
       "version_major": 2,
       "version_minor": 0
      },
      "text/plain": [
       "  0%|          | 0/1228 [00:00<?, ?it/s]"
      ]
     },
     "metadata": {},
     "output_type": "display_data"
    },
    {
     "name": "stdout",
     "output_type": "stream",
     "text": [
      "CPU times: user 45.9 s, sys: 2.79 s, total: 48.7 s\n",
      "Wall time: 47.4 s\n"
     ]
    }
   ],
   "source": [
    "%%time\n",
    "channel_to_keep = 0\n",
    "batch_size = 10\n",
    "\n",
    "responses = np.empty(shape=(fov*2)*(fov*2)*channels)\n",
    "for i, delta in tqdm(enumerate(deltas_dataset.batch(batch_size)), total=fov*2*fov*2*channels//batch_size):\n",
    "    response = model.predict(delta)\n",
    "    ## Now we keep only the center response of a specific channel\n",
    "    response_height, response_width = response.shape[1:3] # [BatchDim, H, W, C]\n",
    "    responses[i*batch_size:i*batch_size+batch_size] = response[:,response_height//2,response_width//2,channel_to_keep]"
   ]
  },
  {
   "cell_type": "code",
   "execution_count": 7,
   "metadata": {},
   "outputs": [
    {
     "data": {
      "text/plain": [
       "(64, 64, 3)"
      ]
     },
     "execution_count": 7,
     "metadata": {},
     "output_type": "execute_result"
    }
   ],
   "source": [
    "responses2 = responses.reshape((fov*2, fov*2, channels))\n",
    "# rf = (responses2 - responses2.min()) / (responses2.max() - responses2.min())\n",
    "rf = normalization_fixed_0(responses2, expo=0.5)\n",
    "rf.shape"
   ]
  },
  {
   "cell_type": "code",
   "execution_count": 8,
   "metadata": {},
   "outputs": [
    {
     "data": {
      "image/png": "[encoded data removed]",
      "text/plain": [
       "<Figure size 432x288 with 1 Axes>"
      ]
     },
     "metadata": {
      "needs_background": "light"
     },
     "output_type": "display_data"
    }
   ],
   "source": [
    "plt.imshow(rf)\n",
    "plt.show()"
   ]
  },
  {
   "cell_type": "markdown",
   "metadata": {},
   "source": [
    "### Keeping all the channels"
   ]
  },
  {
   "cell_type": "code",
   "execution_count": 13,
   "metadata": {},
   "outputs": [
    {
     "name": "stderr",
     "output_type": "stream",
     "text": [
      "2022-05-08 18:32:51.267238: I tensorflow/compiler/mlir/mlir_graph_optimization_pass.cc:185] None of the MLIR Optimization Passes are enabled (registered 2)\n"
     ]
    },
    {
     "data": {
      "application/vnd.jupyter.widget-view+json": {
       "model_id": "8cd1d536a3044dca8c8b3b05acb9644b",
       "version_major": 2,
       "version_minor": 0
      },
      "text/plain": [
       "  0%|          | 0/768 [00:00<?, ?it/s]"
      ]
     },
     "metadata": {},
     "output_type": "display_data"
    },
    {
     "name": "stdout",
     "output_type": "stream",
     "text": [
      "CPU times: user 48.8 s, sys: 18.9 s, total: 1min 7s\n",
      "Wall time: 1min 6s\n"
     ]
    }
   ],
   "source": [
    "%%time\n",
    "batch_size = 16\n",
    "output_channels = 3\n",
    "\n",
    "## We will calculate the response to the background first\n",
    "response_bg = model.predict(background[None,:,:,:])\n",
    "\n",
    "responses = np.empty(shape=((fov*2)*(fov*2)*channels, output_channels))\n",
    "for i, delta in tqdm(enumerate(deltas_dataset.batch(batch_size)), total=fov*2*fov*2*channels//batch_size):\n",
    "    response = model.predict(delta) - response_bg\n",
    "    ## Now we keep only the center response of a specific channel\n",
    "    response_height, response_width = response.shape[1:3] # [BatchDim, H, W, C]\n",
    "    responses[i*batch_size:i*batch_size+batch_size] = response[:,response_height//2,response_width//2,:]"
   ]
  },
  {
   "cell_type": "code",
   "execution_count": 21,
   "metadata": {},
   "outputs": [
    {
     "data": {
      "text/plain": [
       "(12288, 3)"
      ]
     },
     "execution_count": 21,
     "metadata": {},
     "output_type": "execute_result"
    }
   ],
   "source": [
    "responses = normalization_fixed_0(responses, expo=0.5)\n",
    "responses.shape"
   ]
  },
  {
   "cell_type": "code",
   "execution_count": 22,
   "metadata": {},
   "outputs": [
    {
     "data": {
      "text/plain": [
       "((12288, 3), TensorShape([16, 384, 512, 3]))"
      ]
     },
     "execution_count": 22,
     "metadata": {},
     "output_type": "execute_result"
    }
   ],
   "source": [
    "responses.shape, response.shape"
   ]
  },
  {
   "cell_type": "code",
   "execution_count": 23,
   "metadata": {},
   "outputs": [
    {
     "data": {
      "image/png": "[encoded data removed]",
      "text/plain": [
       "<Figure size 1440x1440 with 4 Axes>"
      ]
     },
     "metadata": {
      "needs_background": "light"
     },
     "output_type": "display_data"
    }
   ],
   "source": [
    "nrows, ncols = [int(np.ceil(np.sqrt(output_channels)))]*2\n",
    "fig, ax = plt.subplots(nrows, ncols, figsize=(20,20))\n",
    "ax = ax.ravel()\n",
    "for ch in range(output_channels):\n",
    "    ch_response = responses[:,ch]\n",
    "    ch_response = ch_response.reshape((fov*2, fov*2, channels))\n",
    "    ax[ch].imshow(ch_response)\n",
    "    ax[ch].axis('off')\n",
    "    # break\n",
    "plt.show()"
   ]
  }
 ],
 "metadata": {
  "interpreter": {
   "hash": "0e5e7d3ec6da8cae83531001485d926ded04fa3b6e3dfe28c110c78c0ec74159"
  },
  "kernelspec": {
   "display_name": "Python 3.8.12 ('tf26')",
   "language": "python",
   "name": "python3"
  },
  "language_info": {
   "codemirror_mode": {
    "name": "ipython",
    "version": 3
   },
   "file_extension": ".py",
   "mimetype": "text/x-python",
   "name": "python",
   "nbconvert_exporter": "python",
   "pygments_lexer": "ipython3",
   "version": "3.8.12"
  },
  "orig_nbformat": 4
 },
 "nbformat": 4,
 "nbformat_minor": 2
}
