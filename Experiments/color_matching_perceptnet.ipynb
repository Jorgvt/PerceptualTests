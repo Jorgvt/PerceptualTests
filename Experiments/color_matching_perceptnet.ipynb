{
 "cells": [
  {
   "cell_type": "markdown",
   "metadata": {},
   "source": [
    "# Color matching\n",
    "\n",
    "We will be conducting a color matching experiment using gradient descent.\n",
    "The idea is to generate the images based on 8 weights (4 per image) and minimize the distance of both images in the transformed space with the network."
   ]
  },
  {
   "cell_type": "markdown",
   "metadata": {},
   "source": [
    "## Importing libraries"
   ]
  },
  {
   "cell_type": "code",
   "execution_count": 1,
   "metadata": {},
   "outputs": [],
   "source": [
    "import os\n",
    "os.environ[\"CUDA_VISIBLE_DEVICES\"]=\"2\"\n",
    "\n",
    "from tqdm.auto import tqdm\n",
    "\n",
    "import numpy as np\n",
    "import matplotlib.pyplot as plt\n",
    "import scipy.io as sio\n",
    "from scipy import integrate\n",
    "from scipy import interpolate\n",
    "import tensorflow as tf\n",
    "from tensorflow.keras.utils import get_file\n",
    "\n",
    "from perceptnet.networks import PerceptNet\n",
    "from perceptualtests.receptive_fields import *\n",
    "from perceptualtests.colored_squares import create_colored_square"
   ]
  },
  {
   "cell_type": "markdown",
   "metadata": {},
   "source": [
    "## Loading the network"
   ]
  },
  {
   "cell_type": "code",
   "execution_count": 2,
   "metadata": {},
   "outputs": [],
   "source": [
    "weights_path = get_file(fname='perceptnet_rgb.h5',\n",
    "                        origin='https://github.com/Jorgvt/perceptnet/releases/download/Weights/final_model_rgb.h5')"
   ]
  },
  {
   "cell_type": "code",
   "execution_count": 3,
   "metadata": {},
   "outputs": [
    {
     "name": "stderr",
     "output_type": "stream",
     "text": [
      "2022-05-30 13:00:31.791614: I tensorflow/core/common_runtime/gpu/gpu_device.cc:1510] Created device /job:localhost/replica:0/task:0/device:GPU:0 with 4730 MB memory:  -> device: 0, name: NVIDIA GeForce GTX TITAN Black, pci bus id: 0000:83:00.0, compute capability: 3.5\n"
     ]
    }
   ],
   "source": [
    "model = PerceptNet(kernel_initializer='ones', gdn_kernel_size=1, learnable_undersampling=False)\n",
    "model.build(input_shape=(None, 384, 512, 3))\n",
    "model.load_weights(weights_path)"
   ]
  },
  {
   "cell_type": "markdown",
   "metadata": {},
   "source": [
    "## Functions"
   ]
  },
  {
   "cell_type": "code",
   "execution_count": 4,
   "metadata": {},
   "outputs": [],
   "source": [
    "# Matrices and change factors\n",
    "Mng2xyz = np.array([[69.1661, 52.4902, 46.6052],\n",
    "                    [39.0454, 115.8404, 16.3118],\n",
    "                    [3.3467, 12.6700, 170.1090]])\n",
    "Mxyz2ng = np.linalg.inv(Mng2xyz)\n",
    "\n",
    "Mxyz2atd_jh = np.array([[0, 1, 0],\n",
    "                    [1, -1, 0],\n",
    "                    [0, 0.4, -0.4]])\n",
    "Matd2xyz_jh = np.linalg.inv(Mxyz2atd_jh)\n",
    "\n",
    "alpha = 2\n",
    "Matd2xyz = Matd2xyz_jh\n",
    "Matd2xyz[:,0] = alpha*Matd2xyz_jh[:,0]\n",
    "Mxyz2atd = np.linalg.inv(Matd2xyz)\n",
    "\n",
    "gamma = 2.2\n",
    "\n",
    "# T_lambdas, usual lambdas and constant\n",
    "T_lambda = sio.loadmat(\"/media/disk/vista/Papers/A_Vision_Talks/psycho_paper/vision_py/cmf_ciexyz.mat\")['T_lambda']\n",
    "lambdas = np.arange(380,770,1)\n",
    "km = 683 #lumens/watt\n",
    "\n",
    "# Functions\n",
    "def monochomatic_stimulus(central_lambda, lambdas, width, max_radiance, background):\n",
    "    \"\"\"\n",
    "    Generates a quasi-monochromatic spectrum. Gaussian centered in central lambda with desired width and peak on max_radiance over a background.\n",
    "    \"\"\"\n",
    "    spectrum = (max_radiance - background)*np.exp(-(lambdas-central_lambda)**2/width**2) + background\n",
    "    return spectrum\n",
    "\n",
    "def norm_spectrum_luminance(lambdas, spectrum, luminance):\n",
    "    \"\"\"\n",
    "    Normalize a spectrum with a desired luminance. Returns the original luminance and the new lambdas and normalized spectrum after the interpolation.\n",
    "    \"\"\"\n",
    "    V_l = T_lambda[:,2]\n",
    "    lambdas_Y = T_lambda[:,0]\n",
    "\n",
    "    min_abs, max_abs = np.min(np.concatenate([lambdas_Y, lambdas])), np.max(np.concatenate([lambdas_Y, lambdas]))\n",
    "    new_lambda = np.arange(min_abs, max_abs, 1)\n",
    "\n",
    "    f_spectrum = interpolate.interp1d(lambdas, spectrum, bounds_error=False, fill_value=(spectrum[0],spectrum[-1]))\n",
    "    interpol_spectrum = f_spectrum(new_lambda)\n",
    "    f_V_l = interpolate.interp1d(lambdas_Y, V_l, bounds_error=False, fill_value=(V_l[0],V_l[-1]))\n",
    "    interpol_V_l = f_V_l(new_lambda)\n",
    "\n",
    "    Y = km*integrate.trapezoid(interpol_spectrum*interpol_V_l, new_lambda, 1)\n",
    "\n",
    "    interpol_spectrum = luminance * interpol_spectrum/Y\n",
    "    return Y, new_lambda, interpol_spectrum\n",
    "\n",
    "\n",
    "def atd2nrgb(atd, gamma):\n",
    "    \"\"\"\n",
    "    Changes from atd to nrgb values (ready to be displayed in the screen). \n",
    "    Expects and atd color column vector or images.\n",
    "\n",
    "    Parameters\n",
    "    ----------\n",
    "    gamma: \n",
    "        Expects only the number, i.e. 2.2\n",
    "    \"\"\"\n",
    "    rgb = Mxyz2ng @ Matd2xyz @ atd\n",
    "\n",
    "    if rgb.min() < 0 or rgb.max() > 1:\n",
    "        sat = 1\n",
    "        rgb = np.clip(rgb, 0, 1)\n",
    "    else:\n",
    "        sat = 0\n",
    "\n",
    "    if type(gamma) == list:\n",
    "        rgb = np.power(rgb, 1/gamma[:,None])\n",
    "    elif type(gamma) == float:\n",
    "        rgb = rgb**(1/gamma)\n",
    "    else:\n",
    "        print('Error')\n",
    "    return rgb\n",
    "\n",
    "def atd2nrgb_tf(atd, gamma):\n",
    "    \"\"\"\n",
    "    Changes from atd to nrgb values (ready to be displayed in the screen). \n",
    "    Expects and atd color column vector or images.\n",
    "\n",
    "    Parameters\n",
    "    ----------\n",
    "    gamma: \n",
    "        Expects only the number, i.e. 2.2\n",
    "    \"\"\"\n",
    "    rgb = Mxyz2ng @ Matd2xyz @ atd\n",
    "\n",
    "    if tf.reduce_min(rgb) < 0 or tf.reduce_max(rgb) > 1:\n",
    "        sat = 1\n",
    "        rgb = tf.clip_by_value(rgb, 0, 1)\n",
    "    else:\n",
    "        sat = 0\n",
    "\n",
    "    if type(gamma) == list:\n",
    "        rgb = tf.pow(rgb, 1/gamma[:,None])\n",
    "    elif type(gamma) == float:\n",
    "        rgb = rgb**(1/gamma)\n",
    "    else:\n",
    "        print('Error')\n",
    "    return rgb\n",
    "\n",
    "def nrgb2atd(rgb, gamma):\n",
    "    \"\"\"\n",
    "    Changes from nrgb to atd values. \n",
    "    Expects and nrgb color column vector or images.\n",
    "\n",
    "    Parameters\n",
    "    ----------\n",
    "    gamma: \n",
    "        Expects only the number, i.e. 2.2\n",
    "    \"\"\"\n",
    "    if type(gamma) == list:\n",
    "        rgb = np.power(rgb, gamma[:,None])\n",
    "    elif type(gamma) == float:\n",
    "        rgb = rgb**gamma\n",
    "    else:\n",
    "        print('Error')\n",
    "\n",
    "    atd = Mxyz2atd @ Mng2xyz @ rgb\n",
    "    return atd\n",
    "\n",
    "def xyz2nrgb(xyz, gamma):\n",
    "    \"\"\"\n",
    "    Changes from xyz to nrgb values (ready to be displayed in the screen). Expects and xyz color column vector or images.\n",
    "    \"\"\"\n",
    "    rgb = Mxyz2ng @ xyz\n",
    "\n",
    "    if rgb.min() < 0 or rgb.max() > 1:\n",
    "        sat = 1\n",
    "        rgb = np.clip(rgb, 0, 1)\n",
    "    else:\n",
    "        sat = 0\n",
    "\n",
    "    if type(gamma) == list:\n",
    "        rgb = np.power(rgb, 1/gamma[:,None])\n",
    "    elif type(gamma) == float:\n",
    "        rgb = rgb**(1/gamma)\n",
    "    else:\n",
    "        print('Error')\n",
    "    return sat, rgb\n",
    "\n",
    "def xyz2atd(xyz):\n",
    "    \"\"\"\n",
    "    Changes from xyz to atd values. \n",
    "    Expects and xyz color column vector or images.\n",
    "    \"\"\"\n",
    "    atd = Mxyz2atd @ xyz\n",
    "\n",
    "    return atd\n",
    "\n",
    "def nrgb2xyz(rgb, gamma):\n",
    "    \"\"\"\n",
    "    Changes from nrgb to xyz values. Expects and nrgb color column vector or images.\n",
    "    \"\"\"\n",
    "    if type(gamma) == list:\n",
    "        rgb = np.power(rgb, gamma[:,None])\n",
    "    elif type(gamma) == float:\n",
    "        rgb = rgb**gamma\n",
    "    else:\n",
    "        print('Error')\n",
    "\n",
    "    xyz = Mng2xyz @ rgb\n",
    "    return xyz\n",
    "\n",
    "def spect2tri(lambdas, spectrum, lambdas_reflectance = None, reflectance = None, spectrum_luminance = None):\n",
    "    \"\"\"\n",
    "    Calculates the tristimulus values of a spectrum. It needs the wavelengths and the spectrum. Reflectance with its wavelenghts are optional.\n",
    "    Spectrum_luminance is optional and it normalizes the spectrum with the desired luminance.\n",
    "    \"\"\"\n",
    "    lambdas_Y = T_lambda[:,0]\n",
    "\n",
    "    if spectrum_luminance is not None:\n",
    "        Y, lambdas, spectrum = norm_spectrum_luminance(lambdas, spectrum, spectrum_luminance)\n",
    "\n",
    "    if (reflectance is not None) and (lambdas_reflectance is not None):\n",
    "        min_abs, max_abs = np.min(np.concatenate([lambdas_Y, lambdas, lambdas_reflectance])), np.max(np.concatenate([lambdas_Y, lambdas, lambdas_reflectance]))\n",
    "        new_lambda = np.arange(min_abs, max_abs, 1)\n",
    "\n",
    "        f_reflectance = interpolate.interp1d(lambdas_reflectance, reflectance, bounds_error=False, fill_value=(reflectance[0], reflectance[-1]))\n",
    "        interpol_reflectance = f_reflectance(new_lambda)\n",
    "\n",
    "        f_spectrum = interpolate.interp1d(lambdas, spectrum, bounds_error=False, fill_value=(spectrum[0], spectrum[-1]))\n",
    "        interpol_spectrum = f_spectrum(new_lambda)\n",
    "\n",
    "        interpol_spectrum = interpol_spectrum*interpol_reflectance\n",
    "\n",
    "    else:\n",
    "        min_abs, max_abs = np.min(np.concatenate([lambdas_Y, lambdas])), np.max(np.concatenate([lambdas_Y, lambdas]))\n",
    "        new_lambda = np.arange(min_abs, max_abs, 1)\n",
    "\n",
    "        f_spectrum = interpolate.interp1d(lambdas, spectrum, bounds_error=False, fill_value=(spectrum[0], spectrum[-1]))\n",
    "        interpol_spectrum = f_spectrum(new_lambda)\n",
    "\n",
    "    tristimulus_values = np.zeros((3,1))\n",
    "    for i in range(3):\n",
    "        T_i = T_lambda[:,i+1]\n",
    "        f_T_i = interpolate.interp1d(lambdas_Y, T_i, bounds_error = False, fill_value = (T_i[0], T_i[-1]))\n",
    "        T_i = f_T_i(new_lambda)\n",
    "\n",
    "        tristimulus_values[i,0] = km*integrate.trapezoid(interpol_spectrum*T_i, new_lambda, 1)\n",
    "\n",
    "    return tristimulus_values\n",
    "\n"
   ]
  },
  {
   "cell_type": "markdown",
   "metadata": {},
   "source": [
    "## Optimizing the images"
   ]
  },
  {
   "cell_type": "markdown",
   "metadata": {},
   "source": [
    "First we initialize the weights:"
   ]
  },
  {
   "cell_type": "code",
   "execution_count": 5,
   "metadata": {},
   "outputs": [],
   "source": [
    "def initialize_weights():\n",
    "    \"\"\"\n",
    "    We're creating two pairs of 4 weights, one for each image.\n",
    "    \"\"\"\n",
    "    r1, r2 = tf.Variable(0, trainable=True, dtype=tf.float32, name='Rl'), tf.Variable(0, trainable=True, dtype=tf.float32, name='Rw')\n",
    "    g1, g2 = tf.Variable(0, trainable=True, dtype=tf.float32, name='Gl'), tf.Variable(0, trainable=True, dtype=tf.float32, name='Gw')\n",
    "    b1, b2 = tf.Variable(0, trainable=True, dtype=tf.float32, name='Bl'), tf.Variable(0, trainable=True, dtype=tf.float32, name='Bw')\n",
    "    y1, y2 = tf.Variable(0, trainable=True, dtype=tf.float32, name='Yl'), tf.Variable(0, trainable=True, dtype=tf.float32, name='Yw')\n",
    "    return tf.concat([r1, g1, b1, y1, r2, g2, b2, y2], axis=0)"
   ]
  },
  {
   "cell_type": "code",
   "execution_count": 6,
   "metadata": {},
   "outputs": [],
   "source": [
    "def initialize_weights_2():\n",
    "    \"\"\"\n",
    "    We're creating two pairs of 4 weights, one for each image.\n",
    "    \"\"\"\n",
    "    return tf.Variable([0]*8, trainable=True, dtype=tf.float32)"
   ]
  },
  {
   "cell_type": "code",
   "execution_count": 7,
   "metadata": {},
   "outputs": [],
   "source": [
    "def generate_white(lambdas = np.linspace(380,770,300), \n",
    "                   central_lambda=550, \n",
    "                   max_radiance=1.5e-3,\n",
    "                   background=0.2e-3):\n",
    "                   \n",
    "    ## Generate the monochromatic stimilus\n",
    "    monochromatic_spectrum = monochomatic_stimulus(central_lambda, lambdas, width=np.inf, max_radiance=max_radiance, background=background)\n",
    "\n",
    "    ## Get the tristimilus values from the spectrum\n",
    "    tristimulus_values = spect2tri(lambdas, monochromatic_spectrum, lambdas_reflectance = None, reflectance = None, spectrum_luminance = None)\n",
    "\n",
    "    sat, rgb = xyz2nrgb(tristimulus_values, gamma)\n",
    "    image = np.zeros((3,3,3)) + 0.5\n",
    "    image[1,1,:] = rgb.ravel()\n",
    "    return image"
   ]
  },
  {
   "cell_type": "code",
   "execution_count": 8,
   "metadata": {},
   "outputs": [],
   "source": [
    "def generate_images(weights, size=(28,28),\n",
    "                    lambdas = np.linspace(380,770,300),\n",
    "                    central_lambda=550, width = np.inf, \n",
    "                    max_radiance=1.5e-3, background=0.2e-3):\n",
    "    \"\"\"\n",
    "    \n",
    "    Parameters\n",
    "    ----------\n",
    "    weights:\n",
    "    \n",
    "    Returns\n",
    "    -------\n",
    "    image_lambda:\n",
    "\n",
    "    image_white:\n",
    "    \"\"\"\n",
    "    ## Generate the monochromatic stimilus\n",
    "    monochromatic_spectrum = monochomatic_stimulus(central_lambda, lambdas, width, max_radiance, background)\n",
    "\n",
    "    ## Get the tristimilus values from the spectrum\n",
    "    tristimulus_values = spect2tri(lambdas, monochromatic_spectrum, lambdas_reflectance = None, reflectance = None, spectrum_luminance = None)\n",
    "\n",
    "    ## Transform from XYZ -> ATD\n",
    "    atd = xyz2atd(tristimulus_values)\n",
    "\n",
    "    ## Generate the (white) monochromatic stimilus\n",
    "    monochromatic_spectrum_w = monochomatic_stimulus(central_lambda, lambdas, width=np.inf, max_radiance=max_radiance, background=background)\n",
    "\n",
    "    ## Get the tristimilus values from the spectrum\n",
    "    tristimulus_values_w = spect2tri(lambdas, monochromatic_spectrum_w, lambdas_reflectance = None, reflectance = None, spectrum_luminance = None)\n",
    "\n",
    "    ## Transform from XYZ -> ATD\n",
    "    atd = xyz2atd(tristimulus_values)\n",
    "    atd_w = xyz2atd(tristimulus_values_w)\n",
    "\n",
    "    ## Add the weights\n",
    "    atd[1] += weights[0] - weights[1]\n",
    "    atd[2] += weights[2] - weights[3]\n",
    "    atd_w[1] += weights[4] - weights[5]\n",
    "    atd_w[2] += weights[6] - weights[7]\n",
    "    \n",
    "    ## Transform from ATD -> RGB\n",
    "    rgb = atd2nrgb(atd, gamma)\n",
    "    rgb_w = atd2nrgb(atd_w, gamma)\n",
    "\n",
    "    ## Create the images\n",
    "    image_lambda = np.zeros((*size, 3)) + 0.5\n",
    "    image_lambda[1,1,:] = rgb.ravel()\n",
    "    image_white = np.zeros((*size, 3)) + 0.5\n",
    "    image_white[1,1,:] = rgb_w.ravel()\n",
    "\n",
    "    return image_lambda, image_white"
   ]
  },
  {
   "cell_type": "code",
   "execution_count": 9,
   "metadata": {},
   "outputs": [],
   "source": [
    "def generate_images_atd(lambdas = np.linspace(380,770,300),\n",
    "                        central_lambda=550, width = np.inf, \n",
    "                        max_radiance=1.5e-3, background=0.2e-3):\n",
    "    \"\"\"\n",
    "    Generates images in ATD space.\n",
    "    Parameters\n",
    "    ----------\n",
    "    weights:\n",
    "    \n",
    "    Returns\n",
    "    -------\n",
    "    image_lambda:\n",
    "\n",
    "    image_white:\n",
    "    \"\"\"\n",
    "    ## Generate the monochromatic stimilus\n",
    "    monochromatic_spectrum = monochomatic_stimulus(central_lambda, lambdas, width, max_radiance, background)\n",
    "\n",
    "    ## Get the tristimilus values from the spectrum\n",
    "    tristimulus_values = spect2tri(lambdas, monochromatic_spectrum, lambdas_reflectance = None, reflectance = None, spectrum_luminance = None)\n",
    "\n",
    "    ## Transform from XYZ -> ATD\n",
    "    atd = xyz2atd(tristimulus_values)\n",
    "\n",
    "    ## Generate the (white) monochromatic stimilus\n",
    "    monochromatic_spectrum_w = monochomatic_stimulus(central_lambda, lambdas, width=np.inf, max_radiance=max_radiance, background=background)\n",
    "\n",
    "    ## Get the tristimilus values from the spectrum\n",
    "    tristimulus_values_w = spect2tri(lambdas, monochromatic_spectrum_w, lambdas_reflectance = None, reflectance = None, spectrum_luminance = None)\n",
    "\n",
    "    ## Transform from XYZ -> ATD\n",
    "    atd = xyz2atd(tristimulus_values)\n",
    "    atd_w = xyz2atd(tristimulus_values_w)\n",
    "\n",
    "    ## Create the images\n",
    "    # image_lambda = np.zeros((*size, 3)) + 0.5\n",
    "    # image_lambda[1,1,:] = atd.ravel()\n",
    "    # image_white = np.zeros((*size, 3)) + 0.5\n",
    "    # image_white[1,1,:] = atd_w.ravel()\n",
    "\n",
    "    return atd, atd_w"
   ]
  },
  {
   "cell_type": "code",
   "execution_count": 29,
   "metadata": {},
   "outputs": [
    {
     "data": {
      "text/plain": [
       "(<tf.Variable 'Rl:0' shape=() dtype=float32, numpy=0.0>,\n",
       " <tf.Variable 'Gl:0' shape=() dtype=float32, numpy=0.0>,\n",
       " <tf.Variable 'Bl:0' shape=() dtype=float32, numpy=0.0>,\n",
       " <tf.Variable 'Yl:0' shape=() dtype=float32, numpy=0.0>,\n",
       " <tf.Variable 'Rw:0' shape=() dtype=float32, numpy=0.0>,\n",
       " <tf.Variable 'Gw:0' shape=() dtype=float32, numpy=0.0>,\n",
       " <tf.Variable 'Bw:0' shape=() dtype=float32, numpy=0.0>,\n",
       " <tf.Variable 'Yw:0' shape=() dtype=float32, numpy=0.0>)"
      ]
     },
     "execution_count": 29,
     "metadata": {},
     "output_type": "execute_result"
    }
   ],
   "source": [
    "weights = initialize_weights()\n",
    "weights"
   ]
  },
  {
   "cell_type": "code",
   "execution_count": 20,
   "metadata": {},
   "outputs": [],
   "source": [
    "k, kw = generate_images(weights, lambdas = np.linspace(380,770,300),\n",
    "                        central_lambda=450, width = 1, \n",
    "                        max_radiance=1.5e-3, background=0.2e-3)"
   ]
  },
  {
   "cell_type": "code",
   "execution_count": 21,
   "metadata": {},
   "outputs": [
    {
     "data": {
      "image/png": "[encoded data removed]",
      "text/plain": [
       "<Figure size 432x288 with 1 Axes>"
      ]
     },
     "metadata": {
      "needs_background": "light"
     },
     "output_type": "display_data"
    },
    {
     "data": {
      "image/png": "[encoded data removed]",
      "text/plain": [
       "<Figure size 432x288 with 1 Axes>"
      ]
     },
     "metadata": {
      "needs_background": "light"
     },
     "output_type": "display_data"
    }
   ],
   "source": [
    "plt.imshow(k)\n",
    "plt.show()\n",
    "plt.imshow(kw)\n",
    "plt.show()"
   ]
  },
  {
   "cell_type": "code",
   "execution_count": 19,
   "metadata": {},
   "outputs": [],
   "source": [
    "def compute_loss(weights, model):\n",
    "\timage_lambda, image_white = generate_images(weights)\n",
    "\tresponse_white = model.predict(image_white)\n",
    "\tresponse_lambda = model.predict(image_lambda)\n",
    "\tdist = (response_white - response_lambda)**2\n",
    "\tdist = tf.reduce_sum(dist, axis=[1,2,3])\n",
    "\treturn dist"
   ]
  },
  {
   "cell_type": "code",
   "execution_count": 35,
   "metadata": {},
   "outputs": [],
   "source": [
    "@tf.function\n",
    "def gradient_ascent_step(weights, model, learning_rate):\n",
    "\twith tf.GradientTape() as tape:\n",
    "\t\t# tape.watch(weights)\n",
    "\t\tloss = compute_loss(weights, model)\n",
    "\n",
    "\tgrads = tape.gradient(loss, weights)\n",
    "\tgrads = tf.math.l2_normalize(grads)\n",
    "\tweights += learning_rate * grads\n",
    "\n",
    "\treturn loss"
   ]
  },
  {
   "cell_type": "code",
   "execution_count": 11,
   "metadata": {},
   "outputs": [],
   "source": [
    "def modify_input(lambda_atd, white_atd, weights):\n",
    "    a = lambda_atd[1] + weights[0] - weights[1]\n",
    "    b = lambda_atd[2] + weights[2] - weights[3]\n",
    "    c = white_atd[1] + weights[4] - weights[5]\n",
    "    d = white_atd[2] + weights[6] - weights[7]\n",
    "    return tf.concat([lambda_atd[0], a, b], axis=-1), tf.concat([white_atd[0], c, d], axis=-1)"
   ]
  },
  {
   "cell_type": "markdown",
   "metadata": {},
   "source": [
    "## Training loop\n",
    "\n",
    "The idea is to define a pair of images and move the weights in the direction that minimizes the distance in the transformed domain:"
   ]
  },
  {
   "cell_type": "code",
   "execution_count": 16,
   "metadata": {},
   "outputs": [
    {
     "data": {
      "application/vnd.jupyter.widget-view+json": {
       "model_id": "8621fc42ec4042caa27e5ade64158408",
       "version_major": 2,
       "version_minor": 0
      },
      "text/plain": [
       "  0%|          | 0/10000 [00:00<?, ?it/s]"
      ]
     },
     "metadata": {},
     "output_type": "display_data"
    }
   ],
   "source": [
    "EPOCHS = 10000\n",
    "norm_grads = False\n",
    "learning_rate = 3e-4\n",
    "losses = []\n",
    "gradients = []\n",
    "\n",
    "## Initialize weights\n",
    "weights = initialize_weights_2()\n",
    "\n",
    "atd_i, atd_w_i = generate_images_atd(lambdas = np.linspace(380,770,300),\n",
    "                                     central_lambda=450, width = 1, \n",
    "                                     max_radiance=1.5e-3, background=0.2e-3)\n",
    "\n",
    "for epoch in tqdm(range(EPOCHS)):\n",
    "    ## Pass them through the model and calculate loss\n",
    "    with tf.GradientTape() as tape:\n",
    "        ## Add the weights\n",
    "        atd_mod, atd_w_mod = modify_input(atd_i, atd_w_i, weights)\n",
    "        ## Transform from ATD -> RGB\n",
    "        rgb_mod = atd2nrgb_tf(atd_mod[:,None], gamma)\n",
    "        rgb_w_mod = atd2nrgb_tf(atd_w_mod[:,None], gamma)\n",
    "        ## Build the images\n",
    "        image_lambda_mod = tf.ones(shape=(1,384,512,3), dtype=tf.float32)*tf.transpose(rgb_mod, perm=[1,0])\n",
    "        image_white_mod = tf.ones(shape=(1,384,512,3), dtype=tf.float32)*tf.transpose(rgb_w_mod, perm=[1,0])\n",
    "        ## Pass them through the model and calculate loss\n",
    "        response_lambda, response_white = model(image_lambda_mod), model(image_white_mod)\n",
    "        loss = (response_white - response_lambda)**2\n",
    "        loss = tf.reduce_sum(loss, axis=[1,2,3])\n",
    "\n",
    "    ## Obtain gradients and update weights\n",
    "    grads = tape.gradient(loss, weights)\n",
    "\n",
    "    # if epoch%50==0:\n",
    "    #         print(f'Epoch {epoch+1} -> Loss: {loss.numpy()} | Grads: {grads.numpy()}')\n",
    "    losses.append(loss.numpy().mean())\n",
    "    gradients.append(grads.numpy().mean())\n",
    "\n",
    "    ## Normalize the gradients\n",
    "    if norm_grads:\n",
    "        grads = tf.math.l2_normalize(grads)\n",
    "    weights.assign_add(-learning_rate*grads)"
   ]
  },
  {
   "cell_type": "code",
   "execution_count": 19,
   "metadata": {},
   "outputs": [
    {
     "data": {
      "text/plain": [
       "<tf.Variable 'Variable:0' shape=(8,) dtype=float32, numpy=\n",
       "array([ 0.86736846, -0.86736846,  0.16549611, -0.16549611,  0.10432528,\n",
       "       -0.10432528,  3.9356756 , -3.9356756 ], dtype=float32)>"
      ]
     },
     "execution_count": 19,
     "metadata": {},
     "output_type": "execute_result"
    }
   ],
   "source": [
    "weights"
   ]
  },
  {
   "cell_type": "code",
   "execution_count": 17,
   "metadata": {},
   "outputs": [
    {
     "data": {
      "image/png": "[encoded data removed]",
      "text/plain": [
       "<Figure size 432x288 with 2 Axes>"
      ]
     },
     "metadata": {
      "needs_background": "light"
     },
     "output_type": "display_data"
    }
   ],
   "source": [
    "fig, ax = plt.subplots(1,2)\n",
    "\n",
    "ax[0].plot(losses)\n",
    "ax[0].set_title('Loss')\n",
    "ax[1].plot(gradients)\n",
    "ax[1].set_title('Gradients (Mean)')\n",
    "\n",
    "plt.show()"
   ]
  },
  {
   "cell_type": "code",
   "execution_count": 18,
   "metadata": {},
   "outputs": [
    {
     "data": {
      "image/png": "[encoded data removed]",
      "text/plain": [
       "<Figure size 432x288 with 1 Axes>"
      ]
     },
     "metadata": {
      "needs_background": "light"
     },
     "output_type": "display_data"
    },
    {
     "data": {
      "image/png": "[encoded data removed]",
      "text/plain": [
       "<Figure size 432x288 with 1 Axes>"
      ]
     },
     "metadata": {
      "needs_background": "light"
     },
     "output_type": "display_data"
    }
   ],
   "source": [
    "plt.imshow(image_lambda_mod.numpy().squeeze())\n",
    "plt.show()\n",
    "plt.imshow(image_white_mod.numpy().squeeze())\n",
    "plt.show()"
   ]
  },
  {
   "cell_type": "markdown",
   "metadata": {},
   "source": [
    "## Easy example to figure things out first"
   ]
  },
  {
   "cell_type": "code",
   "execution_count": 93,
   "metadata": {},
   "outputs": [
    {
     "name": "stdout",
     "output_type": "stream",
     "text": [
      "Epoch 1 -> Loss: [3130.6042] | Grads: [ 1772.633   1184.6328 -3215.1475]\n",
      "Epoch 21 -> Loss: [14.902851] | Grads: [45.005096  -0.4005127 13.835519 ]\n",
      "Epoch 41 -> Loss: [8.414326] | Grads: [18.235994 -0.554718 10.854494]\n",
      "Epoch 61 -> Loss: [6.821515] | Grads: [ 8.23419   -0.5699196  8.819418 ]\n",
      "Epoch 81 -> Loss: [6.2152085] | Grads: [ 3.43324    -0.56066895  7.6212997 ]\n",
      "Epoch 101 -> Loss: [5.8682985] | Grads: [ 0.7937412 -0.5584526  6.967372 ]\n",
      "Epoch 121 -> Loss: [5.5877447] | Grads: [-0.7720051  -0.57845306  6.673232  ]\n",
      "Epoch 141 -> Loss: [5.3112364] | Grads: [-1.7504172  -0.60845566  6.6231203 ]\n",
      "Epoch 161 -> Loss: [5.015762] | Grads: [-2.3899884  -0.65540314  6.741265  ]\n",
      "Epoch 181 -> Loss: [4.6901913] | Grads: [-2.8329675 -0.7189789  6.9761057]\n",
      "Epoch 201 -> Loss: [4.328104] | Grads: [-3.1606283  -0.79624176  7.293157  ]\n",
      "Epoch 221 -> Loss: [3.9240086] | Grads: [-3.4199693  -0.88468933  7.664187  ]\n",
      "Epoch 241 -> Loss: [3.4736733] | Grads: [-3.6292386 -0.9852867  8.061151 ]\n",
      "Epoch 261 -> Loss: [2.97595] | Grads: [-3.7852159 -1.1013641  8.444516 ]\n",
      "Epoch 281 -> Loss: [2.4355514] | Grads: [-3.8615499 -1.2174721  8.75182  ]\n",
      "Epoch 301 -> Loss: [1.868757] | Grads: [-3.8072267 -1.3205528  8.878401 ]\n",
      "Epoch 321 -> Loss: [1.3095014] | Grads: [-3.5560255 -1.3800735  8.669178 ]\n",
      "Epoch 341 -> Loss: [0.8108921] | Grads: [-3.0602949 -1.3405342  7.9549303]\n",
      "Epoch 361 -> Loss: [0.42934605] | Grads: [-2.3510833 -1.1895895  6.66675  ]\n",
      "Epoch 381 -> Loss: [0.19078653] | Grads: [-1.588429   -0.92454433  4.9935703 ]\n",
      "Epoch 401 -> Loss: [0.07176073] | Grads: [-0.9517147 -0.6367073  3.3333602]\n",
      "Epoch 421 -> Loss: [0.02365909] | Grads: [-0.5255977 -0.3889892  2.0228233]\n",
      "Epoch 441 -> Loss: [0.00712533] | Grads: [-0.27894711 -0.21991229  1.1471522 ]\n",
      "Epoch 461 -> Loss: [0.00203248] | Grads: [-0.14391163 -0.12821317  0.6226155 ]\n",
      "Epoch 481 -> Loss: [0.00056147] | Grads: [-0.07490067 -0.05796179  0.33236974]\n",
      "Epoch 501 -> Loss: [0.00015354] | Grads: [-0.03776129 -0.03570631  0.17391074]\n",
      "Epoch 521 -> Loss: [4.110756e-05] | Grads: [-0.02055642 -0.01599167  0.09048487]\n",
      "Epoch 541 -> Loss: [1.1047566e-05] | Grads: [-0.01004876 -0.004896    0.04776692]\n",
      "Epoch 561 -> Loss: [2.8766424e-06] | Grads: [-0.00605128 -0.00385805  0.02391317]\n",
      "Epoch 581 -> Loss: [7.968323e-07] | Grads: [-0.00228722 -0.00565966  0.01203866]\n",
      "Epoch 601 -> Loss: [2.1219519e-07] | Grads: [-0.00197521 -0.00102392  0.00639763]\n",
      "Epoch 621 -> Loss: [5.3725817e-08] | Grads: [-0.0008345   0.00121541  0.00354253]\n",
      "Epoch 641 -> Loss: [1.6922016e-08] | Grads: [ 0.00028865 -0.00100484  0.00170092]\n",
      "Epoch 661 -> Loss: [5.8879404e-09] | Grads: [-7.0647086e-04  9.2184520e-05  6.8664970e-04]\n",
      "Epoch 681 -> Loss: [4.545021e-09] | Grads: [-1.4332989e-05  7.6429528e-04  8.6903473e-04]\n",
      "Epoch 701 -> Loss: [5.99958e-09] | Grads: [0.00030354 0.00309217 0.00124579]\n",
      "Epoch 721 -> Loss: [1.4182957e-09] | Grads: [-7.745785e-05 -1.733659e-04 -3.967667e-06]\n",
      "Epoch 741 -> Loss: [2.3534945e-09] | Grads: [-0.0001756  -0.00018831  0.00028222]\n",
      "Epoch 761 -> Loss: [8.201596e-09] | Grads: [ 0.00147002 -0.0061556  -0.00094615]\n",
      "Epoch 781 -> Loss: [2.6980256e-09] | Grads: [-0.00041093  0.00223293  0.00020936]\n",
      "Epoch 801 -> Loss: [4.883967e-09] | Grads: [ 0.00082597 -0.00406754 -0.00040748]\n",
      "Epoch 821 -> Loss: [3.1083482e-09] | Grads: [-0.00066667  0.00105317  0.00026929]\n",
      "Epoch 841 -> Loss: [3.4458363e-09] | Grads: [-0.00043933  0.00291575  0.00028999]\n",
      "Epoch 861 -> Loss: [2.3245301e-09] | Grads: [-6.6117602e-05 -6.0463749e-04 -1.1541444e-04]\n",
      "Epoch 881 -> Loss: [2.962563e-09] | Grads: [-0.00018482  0.00204943  0.00018692]\n",
      "Epoch 901 -> Loss: [5.625728e-09] | Grads: [-1.2339887e-03  2.8781025e-03  6.4386637e-05]\n",
      "Epoch 921 -> Loss: [5.10684e-09] | Grads: [-0.00124375  0.00311354  0.00034624]\n",
      "Epoch 941 -> Loss: [6.190367e-09] | Grads: [-0.00143859  0.0031649   0.00019161]\n",
      "Epoch 961 -> Loss: [2.857929e-09] | Grads: [ 0.00031834 -0.00250986 -0.00034223]\n",
      "Epoch 981 -> Loss: [5.4158895e-09] | Grads: [-0.00117469  0.00276557  0.00041791]\n"
     ]
    }
   ],
   "source": [
    "EPOCHS = 1000\n",
    "norm_grads = False\n",
    "learning_rate = 3e-4\n",
    "\n",
    "## Initialize weights\n",
    "weights = tf.Variable([0,0,0], trainable=True, dtype=tf.float32)\n",
    "\n",
    "## Build images\n",
    "image_lambda = np.ones(shape=(1,384,512,3))*np.array([0,0,1])[None,:]\n",
    "image_white = np.ones(shape=(1,384,512,3))\n",
    "image_lambda = tf.convert_to_tensor(image_lambda, dtype=tf.float32)\n",
    "image_white = tf.convert_to_tensor(image_white, dtype=tf.float32)\n",
    "# image_white_mod = image_white\n",
    "for epoch in range(EPOCHS):\n",
    "    with tf.GradientTape() as tape:\n",
    "        ## Add the weights\n",
    "        image_white_mod = image_white + weights\n",
    "        # image_white_mod = tf.clip_by_value(image_white_mod, 0, 1)\n",
    "        ## Pass them through the model and calculate loss\n",
    "        response_lambda, response_white = model(image_lambda), model(image_white_mod)\n",
    "        loss = (response_white - response_lambda)**2\n",
    "        loss = tf.reduce_sum(loss, axis=[1,2,3])\n",
    "    ## Obtain gradients and update weights\n",
    "    grads = tape.gradient(loss, weights)\n",
    "\n",
    "    if epoch%20==0:\n",
    "        print(f'Epoch {epoch+1} -> Loss: {loss.numpy()} | Grads: {grads.numpy()}')\n",
    "\n",
    "    ## Normalize the gradients\n",
    "    if norm_grads:\n",
    "        grads = tf.math.l2_normalize(grads)\n",
    "    weights.assign_add(-learning_rate*grads)"
   ]
  },
  {
   "cell_type": "code",
   "execution_count": 94,
   "metadata": {},
   "outputs": [
    {
     "name": "stderr",
     "output_type": "stream",
     "text": [
      "Clipping input data to the valid range for imshow with RGB data ([0..1] for floats or [0..255] for integers).\n"
     ]
    },
    {
     "data": {
      "image/png": "[encoded data removed]",
      "text/plain": [
       "<Figure size 432x288 with 1 Axes>"
      ]
     },
     "metadata": {
      "needs_background": "light"
     },
     "output_type": "display_data"
    }
   ],
   "source": [
    "plt.imshow(image_white_mod.numpy().squeeze())\n",
    "plt.show()"
   ]
  },
  {
   "cell_type": "code",
   "execution_count": 71,
   "metadata": {},
   "outputs": [
    {
     "data": {
      "text/plain": [
       "(<tf.Tensor: shape=(3,), dtype=float32, numpy=array([ 0.53178996,  0.35538986, -0.9645443 ], dtype=float32)>,\n",
       " <tf.Tensor: shape=(1,), dtype=float32, numpy=array([9355.303], dtype=float32)>,\n",
       " None)"
      ]
     },
     "execution_count": 71,
     "metadata": {},
     "output_type": "execute_result"
    }
   ],
   "source": [
    "weights, loss, grads"
   ]
  }
 ],
 "metadata": {
  "interpreter": {
   "hash": "0e5e7d3ec6da8cae83531001485d926ded04fa3b6e3dfe28c110c78c0ec74159"
  },
  "kernelspec": {
   "display_name": "Python 3.8.12 ('tf26')",
   "language": "python",
   "name": "python3"
  },
  "language_info": {
   "codemirror_mode": {
    "name": "ipython",
    "version": 3
   },
   "file_extension": ".py",
   "mimetype": "text/x-python",
   "name": "python",
   "nbconvert_exporter": "python",
   "pygments_lexer": "ipython3",
   "version": "3.8.12"
  },
  "orig_nbformat": 4
 },
 "nbformat": 4,
 "nbformat_minor": 2
}
