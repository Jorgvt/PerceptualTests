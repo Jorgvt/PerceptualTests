{
 "cells": [
  {
   "cell_type": "markdown",
   "metadata": {},
   "source": [
    "# Color matching\n",
    "\n",
    "We will be conducting a color matching experiment using gradient descent.\n",
    "The idea is to generate the images based on 8 weights (4 per image) and minimize the distance of both images in the transformed space with the network."
   ]
  },
  {
   "cell_type": "markdown",
   "metadata": {},
   "source": [
    "## Importing libraries"
   ]
  },
  {
   "cell_type": "code",
   "execution_count": 1,
   "metadata": {},
   "outputs": [],
   "source": [
    "import os\n",
    "os.environ[\"CUDA_VISIBLE_DEVICES\"]=\"2\"\n",
    "\n",
    "from tqdm.auto import tqdm\n",
    "\n",
    "import numpy as np\n",
    "import matplotlib.pyplot as plt\n",
    "import scipy.io as sio\n",
    "from scipy import integrate\n",
    "from scipy import interpolate\n",
    "import tensorflow as tf\n",
    "import tensorflow_probability as tfp\n",
    "from tensorflow.keras.utils import get_file\n",
    "\n",
    "from perceptnet.networks import PerceptNet\n",
    "from perceptualtests.receptive_fields import *\n",
    "from perceptualtests.colored_squares import create_colored_square"
   ]
  },
  {
   "cell_type": "markdown",
   "metadata": {},
   "source": [
    "## Loading the network"
   ]
  },
  {
   "cell_type": "code",
   "execution_count": 2,
   "metadata": {},
   "outputs": [],
   "source": [
    "weights_path = get_file(fname='perceptnet_rgb.h5',\n",
    "                        origin='https://github.com/Jorgvt/perceptnet/releases/download/Weights/final_model_rgb.h5')"
   ]
  },
  {
   "cell_type": "code",
   "execution_count": 3,
   "metadata": {},
   "outputs": [
    {
     "name": "stderr",
     "output_type": "stream",
     "text": [
      "2022-05-31 12:07:39.589513: I tensorflow/core/common_runtime/gpu/gpu_device.cc:1510] Created device /job:localhost/replica:0/task:0/device:GPU:0 with 5435 MB memory:  -> device: 0, name: NVIDIA GeForce GTX TITAN Black, pci bus id: 0000:83:00.0, compute capability: 3.5\n"
     ]
    }
   ],
   "source": [
    "model = PerceptNet(kernel_initializer='ones', gdn_kernel_size=1, learnable_undersampling=False)\n",
    "model.build(input_shape=(None, 384, 512, 3))\n",
    "model.load_weights(weights_path)"
   ]
  },
  {
   "cell_type": "markdown",
   "metadata": {},
   "source": [
    "## Functions"
   ]
  },
  {
   "cell_type": "code",
   "execution_count": 99,
   "metadata": {},
   "outputs": [],
   "source": [
    "# Matrices and change factors\n",
    "Mng2xyz = np.array([[69.1661, 52.4902, 46.6052],\n",
    "                    [39.0454, 115.8404, 16.3118],\n",
    "                    [3.3467, 12.6700, 170.1090]])\n",
    "Mxyz2ng = np.linalg.inv(Mng2xyz)\n",
    "\n",
    "Mxyz2atd_jh = np.array([[0, 1, 0],\n",
    "                    [1, -1, 0],\n",
    "                    [0, 0.4, -0.4]])\n",
    "Matd2xyz_jh = np.linalg.inv(Mxyz2atd_jh)\n",
    "\n",
    "alpha = 2\n",
    "Matd2xyz = Matd2xyz_jh\n",
    "Matd2xyz[:,0] = alpha*Matd2xyz_jh[:,0]\n",
    "Mxyz2atd = np.linalg.inv(Matd2xyz)\n",
    "\n",
    "gamma = 2.2\n",
    "\n",
    "# T_lambdas, usual lambdas and constant\n",
    "T_lambda = sio.loadmat(\"/media/disk/vista/Papers/A_Vision_Talks/psycho_paper/vision_py/cmf_ciexyz.mat\")['T_lambda'].astype(np.float32)\n",
    "lambdas = np.arange(380,770,1)\n",
    "km = 683 #lumens/watt\n",
    "\n",
    "# Functions\n",
    "def monochomatic_stimulus(central_lambda, lambdas, width, max_radiance, background):\n",
    "    \"\"\"\n",
    "    Generates a quasi-monochromatic spectrum. Gaussian centered in central lambda with desired width and peak on max_radiance over a background.\n",
    "    \"\"\"\n",
    "    spectrum = (max_radiance - background)*np.exp(-(lambdas-central_lambda)**2/width**2) + background\n",
    "    return spectrum\n",
    "\n",
    "def background_stimulus(lambdas, background):\n",
    "    \"\"\"\n",
    "    Generates a quasi-monochromatic spectrum. Gaussian centered in central lambda with desired width and peak on max_radiance over a background.\n",
    "    \"\"\"\n",
    "    spectrum = np.ones_like(lambdas)*background\n",
    "    return spectrum\n",
    "\n",
    "def background_stimulus_tf(lambdas, background):\n",
    "    \"\"\"\n",
    "    Generates a quasi-monochromatic spectrum. Gaussian centered in central lambda with desired width and peak on max_radiance over a background.\n",
    "    \"\"\"\n",
    "    spectrum = tf.ones_like(lambdas, dtype=tf.float32)*background\n",
    "    return spectrum\n",
    "\n",
    "def monochomatic_stimulus_2(central_lambda, lambdas, width, max_radiance, background):\n",
    "    \"\"\"\n",
    "    Generates a quasi-monochromatic spectrum. Gaussian centered in central lambda with desired width and peak on max_radiance over a background.\n",
    "    \"\"\"\n",
    "    spectrum = max_radiance*np.exp(-(lambdas-central_lambda)**2/width**2) + background_stimulus(lambdas, background)\n",
    "    return spectrum\n",
    "\n",
    "def monochomatic_stimulus_2_tf(central_lambda, lambdas, width, max_radiance, background):\n",
    "    \"\"\"\n",
    "    Generates a quasi-monochromatic spectrum. Gaussian centered in central lambda with desired width and peak on max_radiance over a background.\n",
    "    \"\"\"\n",
    "    spectrum = max_radiance*tf.cast(tf.exp(-(lambdas-central_lambda)**2/width**2), tf.float32) + background_stimulus_tf(lambdas, background)\n",
    "    return spectrum\n",
    "\n",
    "def norm_spectrum_luminance(lambdas, spectrum, luminance):\n",
    "    \"\"\"\n",
    "    Normalize a spectrum with a desired luminance. Returns the original luminance and the new lambdas and normalized spectrum after the interpolation.\n",
    "    \"\"\"\n",
    "    V_l = T_lambda[:,2]\n",
    "    lambdas_Y = T_lambda[:,0]\n",
    "\n",
    "    min_abs, max_abs = np.min(np.concatenate([lambdas_Y, lambdas])), np.max(np.concatenate([lambdas_Y, lambdas]))\n",
    "    new_lambda = np.arange(min_abs, max_abs, 1)\n",
    "\n",
    "    f_spectrum = interpolate.interp1d(lambdas, spectrum, bounds_error=False, fill_value=(spectrum[0],spectrum[-1]))\n",
    "    interpol_spectrum = f_spectrum(new_lambda)\n",
    "    f_V_l = interpolate.interp1d(lambdas_Y, V_l, bounds_error=False, fill_value=(V_l[0],V_l[-1]))\n",
    "    interpol_V_l = f_V_l(new_lambda)\n",
    "\n",
    "    Y = km*integrate.trapezoid(interpol_spectrum*interpol_V_l, new_lambda, 1)\n",
    "\n",
    "    interpol_spectrum = luminance * interpol_spectrum/Y\n",
    "    return Y, new_lambda, interpol_spectrum\n",
    "\n",
    "def atd2nrgb(atd, gamma):\n",
    "    \"\"\"\n",
    "    Changes from atd to nrgb values (ready to be displayed in the screen). \n",
    "    Expects and atd color column vector or images.\n",
    "\n",
    "    Parameters\n",
    "    ----------\n",
    "    gamma: \n",
    "        Expects only the number, i.e. 2.2\n",
    "    \"\"\"\n",
    "    rgb = Mxyz2ng @ Matd2xyz @ atd\n",
    "\n",
    "    if rgb.min() < 0 or rgb.max() > 1:\n",
    "        sat = 1\n",
    "        rgb = np.clip(rgb, 0, 1)\n",
    "    else:\n",
    "        sat = 0\n",
    "\n",
    "    if type(gamma) == list:\n",
    "        rgb = np.power(rgb, 1/gamma[:,None])\n",
    "    elif type(gamma) == float:\n",
    "        rgb = rgb**(1/gamma)\n",
    "    else:\n",
    "        print('Error')\n",
    "    return rgb\n",
    "\n",
    "def atd2nrgb_tf(atd, gamma):\n",
    "    \"\"\"\n",
    "    Changes from atd to nrgb values (ready to be displayed in the screen). \n",
    "    Expects and atd color column vector or images.\n",
    "\n",
    "    Parameters\n",
    "    ----------\n",
    "    gamma: \n",
    "        Expects only the number, i.e. 2.2\n",
    "    \"\"\"\n",
    "    rgb = Mxyz2ng @ Matd2xyz @ atd\n",
    "\n",
    "    if tf.reduce_min(rgb) < 0 or tf.reduce_max(rgb) > 1:\n",
    "        sat = 1\n",
    "        rgb = tf.clip_by_value(rgb, 0, 1)\n",
    "    else:\n",
    "        sat = 0\n",
    "\n",
    "    if type(gamma) == list:\n",
    "        rgb = tf.pow(rgb, 1/gamma[:,None])\n",
    "    elif type(gamma) == float:\n",
    "        rgb = rgb**(1/gamma)\n",
    "    else:\n",
    "        print('Error')\n",
    "    return rgb\n",
    "\n",
    "def nrgb2atd(rgb, gamma):\n",
    "    \"\"\"\n",
    "    Changes from nrgb to atd values. \n",
    "    Expects and nrgb color column vector or images.\n",
    "\n",
    "    Parameters\n",
    "    ----------\n",
    "    gamma: \n",
    "        Expects only the number, i.e. 2.2\n",
    "    \"\"\"\n",
    "    if type(gamma) == list:\n",
    "        rgb = np.power(rgb, gamma[:,None])\n",
    "    elif type(gamma) == float:\n",
    "        rgb = rgb**gamma\n",
    "    else:\n",
    "        print('Error')\n",
    "\n",
    "    atd = Mxyz2atd @ Mng2xyz @ rgb\n",
    "    return atd\n",
    "\n",
    "def xyz2nrgb(xyz, gamma):\n",
    "    \"\"\"\n",
    "    Changes from xyz to nrgb values (ready to be displayed in the screen). Expects and xyz color column vector or images.\n",
    "    \"\"\"\n",
    "    rgb = Mxyz2ng @ xyz\n",
    "\n",
    "    if rgb.min() < 0 or rgb.max() > 1:\n",
    "        sat = 1\n",
    "        rgb = np.clip(rgb, 0, 1)\n",
    "    else:\n",
    "        sat = 0\n",
    "\n",
    "    if type(gamma) == list:\n",
    "        rgb = np.power(rgb, 1/gamma[:,None])\n",
    "    elif type(gamma) == float:\n",
    "        rgb = rgb**(1/gamma)\n",
    "    else:\n",
    "        print('Error')\n",
    "    return sat, rgb\n",
    "\n",
    "def xyz2nrgb_tf(xyz, gamma):\n",
    "    \"\"\"\n",
    "    Changes from xyz to nrgb values (ready to be displayed in the screen). Expects and xyz color column vector or images.\n",
    "    \"\"\"\n",
    "    rgb = Mxyz2ng @ xyz\n",
    "\n",
    "    if tf.reduce_min(rgb) < 0 or tf.reduce_max(rgb) > 1:\n",
    "        sat = 1\n",
    "        rgb = tf.clip_by_value(rgb, 0, 1)\n",
    "    else:\n",
    "        sat = 0\n",
    "\n",
    "    if type(gamma) == list:\n",
    "        rgb = tf.pow(rgb, 1/gamma[:,None])\n",
    "    elif type(gamma) == float:\n",
    "        rgb = rgb**(1/gamma)\n",
    "    else:\n",
    "        print('Error')\n",
    "    return sat, rgb\n",
    "\n",
    "def xyz2atd(xyz):\n",
    "    \"\"\"\n",
    "    Changes from xyz to atd values. \n",
    "    Expects and xyz color column vector or images.\n",
    "    \"\"\"\n",
    "    atd = Mxyz2atd @ xyz\n",
    "\n",
    "    return atd\n",
    "\n",
    "def nrgb2xyz(rgb, gamma):\n",
    "    \"\"\"\n",
    "    Changes from nrgb to xyz values. Expects and nrgb color column vector or images.\n",
    "    \"\"\"\n",
    "    if type(gamma) == list:\n",
    "        rgb = np.power(rgb, gamma[:,None])\n",
    "    elif type(gamma) == float:\n",
    "        rgb = rgb**gamma\n",
    "    else:\n",
    "        print('Error')\n",
    "\n",
    "    xyz = Mng2xyz @ rgb\n",
    "    return xyz\n",
    "\n",
    "def spect2tri(lambdas, spectrum, lambdas_reflectance = None, reflectance = None, spectrum_luminance = None):\n",
    "    \"\"\"\n",
    "    Calculates the tristimulus values of a spectrum. It needs the wavelengths and the spectrum. Reflectance with its wavelenghts are optional.\n",
    "    Spectrum_luminance is optional and it normalizes the spectrum with the desired luminance.\n",
    "    \"\"\"\n",
    "    lambdas_Y = T_lambda[:,0]\n",
    "\n",
    "    if spectrum_luminance is not None:\n",
    "        Y, lambdas, spectrum = norm_spectrum_luminance(lambdas, spectrum, spectrum_luminance)\n",
    "\n",
    "    if (reflectance is not None) and (lambdas_reflectance is not None):\n",
    "        min_abs, max_abs = np.min(np.concatenate([lambdas_Y, lambdas, lambdas_reflectance])), np.max(np.concatenate([lambdas_Y, lambdas, lambdas_reflectance]))\n",
    "        new_lambda = np.arange(min_abs, max_abs, 1)\n",
    "\n",
    "        f_reflectance = interpolate.interp1d(lambdas_reflectance, reflectance, bounds_error=False, fill_value=(reflectance[0], reflectance[-1]))\n",
    "        interpol_reflectance = f_reflectance(new_lambda)\n",
    "\n",
    "        f_spectrum = interpolate.interp1d(lambdas, spectrum, bounds_error=False, fill_value=(spectrum[0], spectrum[-1]))\n",
    "        interpol_spectrum = f_spectrum(new_lambda)\n",
    "\n",
    "        interpol_spectrum = interpol_spectrum*interpol_reflectance\n",
    "\n",
    "    else:\n",
    "        min_abs, max_abs = np.min(np.concatenate([lambdas_Y, lambdas])), np.max(np.concatenate([lambdas_Y, lambdas]))\n",
    "        new_lambda = np.arange(min_abs, max_abs, 1)\n",
    "\n",
    "        f_spectrum = interpolate.interp1d(lambdas, spectrum, bounds_error=False, fill_value=(spectrum[0], spectrum[-1]))\n",
    "        interpol_spectrum = f_spectrum(new_lambda)\n",
    "\n",
    "    tristimulus_values = np.zeros((3,1))\n",
    "    for i in range(3):\n",
    "        T_i = T_lambda[:,i+1]\n",
    "        f_T_i = interpolate.interp1d(lambdas_Y, T_i, bounds_error = False, fill_value = (T_i[0], T_i[-1]))\n",
    "        T_i = f_T_i(new_lambda)\n",
    "\n",
    "        tristimulus_values[i,0] = km*integrate.trapezoid(interpol_spectrum*T_i, new_lambda, 1)\n",
    "\n",
    "    return tristimulus_values\n",
    "\n"
   ]
  },
  {
   "cell_type": "markdown",
   "metadata": {},
   "source": [
    "## Optimizing the images"
   ]
  },
  {
   "cell_type": "markdown",
   "metadata": {},
   "source": [
    "First we initialize the weights:"
   ]
  },
  {
   "cell_type": "code",
   "execution_count": 5,
   "metadata": {},
   "outputs": [],
   "source": [
    "def initialize_weights():\n",
    "    \"\"\"\n",
    "    We're creating two pairs of 4 weights, one for each image.\n",
    "    \"\"\"\n",
    "    r1, r2 = tf.Variable(0, trainable=True, dtype=tf.float32, name='Rl'), tf.Variable(0, trainable=True, dtype=tf.float32, name='Rw')\n",
    "    g1, g2 = tf.Variable(0, trainable=True, dtype=tf.float32, name='Gl'), tf.Variable(0, trainable=True, dtype=tf.float32, name='Gw')\n",
    "    b1, b2 = tf.Variable(0, trainable=True, dtype=tf.float32, name='Bl'), tf.Variable(0, trainable=True, dtype=tf.float32, name='Bw')\n",
    "    y1, y2 = tf.Variable(0, trainable=True, dtype=tf.float32, name='Yl'), tf.Variable(0, trainable=True, dtype=tf.float32, name='Yw')\n",
    "    return tf.concat([r1, g1, b1, y1, r2, g2, b2, y2], axis=0)"
   ]
  },
  {
   "cell_type": "code",
   "execution_count": 6,
   "metadata": {},
   "outputs": [],
   "source": [
    "def initialize_weights_2():\n",
    "    \"\"\"\n",
    "    We're creating two pairs of 4 weights, one for each image.\n",
    "    \"\"\"\n",
    "    return tf.Variable([0]*8, trainable=True, dtype=tf.float32)"
   ]
  },
  {
   "cell_type": "code",
   "execution_count": 7,
   "metadata": {},
   "outputs": [],
   "source": [
    "def generate_white(lambdas = np.linspace(380,770,300), \n",
    "                   central_lambda=550, \n",
    "                   max_radiance=1.5e-3,\n",
    "                   background=0.2e-3):\n",
    "                   \n",
    "    ## Generate the monochromatic stimilus\n",
    "    monochromatic_spectrum = monochomatic_stimulus(central_lambda, lambdas, width=np.inf, max_radiance=max_radiance, background=background)\n",
    "\n",
    "    ## Get the tristimilus values from the spectrum\n",
    "    tristimulus_values = spect2tri(lambdas, monochromatic_spectrum, lambdas_reflectance = None, reflectance = None, spectrum_luminance = None)\n",
    "\n",
    "    sat, rgb = xyz2nrgb(tristimulus_values, gamma)\n",
    "    image = np.zeros((3,3,3)) + 0.5\n",
    "    image[1,1,:] = rgb.ravel()\n",
    "    return image"
   ]
  },
  {
   "cell_type": "code",
   "execution_count": 8,
   "metadata": {},
   "outputs": [],
   "source": [
    "def generate_images(weights, size=(28,28),\n",
    "                    lambdas = np.linspace(380,770,300),\n",
    "                    central_lambda=550, width = np.inf, \n",
    "                    max_radiance=1.5e-3, background=0.2e-3):\n",
    "    \"\"\"\n",
    "    \n",
    "    Parameters\n",
    "    ----------\n",
    "    weights:\n",
    "    \n",
    "    Returns\n",
    "    -------\n",
    "    image_lambda:\n",
    "\n",
    "    image_white:\n",
    "    \"\"\"\n",
    "    ## Generate the monochromatic stimilus\n",
    "    monochromatic_spectrum = monochomatic_stimulus(central_lambda, lambdas, width, max_radiance, background)\n",
    "\n",
    "    ## Get the tristimilus values from the spectrum\n",
    "    tristimulus_values = spect2tri(lambdas, monochromatic_spectrum, lambdas_reflectance = None, reflectance = None, spectrum_luminance = None)\n",
    "\n",
    "    ## Transform from XYZ -> ATD\n",
    "    atd = xyz2atd(tristimulus_values)\n",
    "\n",
    "    ## Generate the (white) monochromatic stimilus\n",
    "    monochromatic_spectrum_w = monochomatic_stimulus(central_lambda, lambdas, width=np.inf, max_radiance=max_radiance, background=background)\n",
    "\n",
    "    ## Get the tristimilus values from the spectrum\n",
    "    tristimulus_values_w = spect2tri(lambdas, monochromatic_spectrum_w, lambdas_reflectance = None, reflectance = None, spectrum_luminance = None)\n",
    "\n",
    "    ## Transform from XYZ -> ATD\n",
    "    atd = xyz2atd(tristimulus_values)\n",
    "    atd_w = xyz2atd(tristimulus_values_w)\n",
    "\n",
    "    ## Add the weights\n",
    "    atd[1] += weights[0] - weights[1]\n",
    "    atd[2] += weights[2] - weights[3]\n",
    "    atd_w[1] += weights[4] - weights[5]\n",
    "    atd_w[2] += weights[6] - weights[7]\n",
    "    \n",
    "    ## Transform from ATD -> RGB\n",
    "    rgb = atd2nrgb(atd, gamma)\n",
    "    rgb_w = atd2nrgb(atd_w, gamma)\n",
    "\n",
    "    ## Create the images\n",
    "    image_lambda = np.zeros((*size, 3)) + 0.5\n",
    "    image_lambda[1,1,:] = rgb.ravel()\n",
    "    image_white = np.zeros((*size, 3)) + 0.5\n",
    "    image_white[1,1,:] = rgb_w.ravel()\n",
    "\n",
    "    return image_lambda, image_white"
   ]
  },
  {
   "cell_type": "code",
   "execution_count": 9,
   "metadata": {},
   "outputs": [],
   "source": [
    "def generate_images_atd(lambdas = np.linspace(380,770,300),\n",
    "                        central_lambda=550, width = np.inf, \n",
    "                        max_radiance=1.5e-3, background=0.2e-3):\n",
    "    \"\"\"\n",
    "    Generates images in ATD space.\n",
    "    Parameters\n",
    "    ----------\n",
    "    weights:\n",
    "    \n",
    "    Returns\n",
    "    -------\n",
    "    image_lambda:\n",
    "\n",
    "    image_white:\n",
    "    \"\"\"\n",
    "    ## Generate the monochromatic stimilus\n",
    "    monochromatic_spectrum = monochomatic_stimulus(central_lambda, lambdas, width, max_radiance, background)\n",
    "\n",
    "    ## Get the tristimilus values from the spectrum\n",
    "    tristimulus_values = spect2tri(lambdas, monochromatic_spectrum, lambdas_reflectance = None, reflectance = None, spectrum_luminance = None)\n",
    "\n",
    "    ## Transform from XYZ -> ATD\n",
    "    atd = xyz2atd(tristimulus_values)\n",
    "\n",
    "    ## Generate the (white) monochromatic stimilus\n",
    "    monochromatic_spectrum_w = monochomatic_stimulus(central_lambda, lambdas, width=np.inf, max_radiance=max_radiance, background=background)\n",
    "\n",
    "    ## Get the tristimilus values from the spectrum\n",
    "    tristimulus_values_w = spect2tri(lambdas, monochromatic_spectrum_w, lambdas_reflectance = None, reflectance = None, spectrum_luminance = None)\n",
    "\n",
    "    ## Transform from XYZ -> ATD\n",
    "    atd = xyz2atd(tristimulus_values)\n",
    "    atd_w = xyz2atd(tristimulus_values_w)\n",
    "\n",
    "    ## Create the images\n",
    "    # image_lambda = np.zeros((*size, 3)) + 0.5\n",
    "    # image_lambda[1,1,:] = atd.ravel()\n",
    "    # image_white = np.zeros((*size, 3)) + 0.5\n",
    "    # image_white[1,1,:] = atd_w.ravel()\n",
    "\n",
    "    return atd, atd_w"
   ]
  },
  {
   "cell_type": "code",
   "execution_count": 29,
   "metadata": {},
   "outputs": [
    {
     "data": {
      "text/plain": [
       "(<tf.Variable 'Rl:0' shape=() dtype=float32, numpy=0.0>,\n",
       " <tf.Variable 'Gl:0' shape=() dtype=float32, numpy=0.0>,\n",
       " <tf.Variable 'Bl:0' shape=() dtype=float32, numpy=0.0>,\n",
       " <tf.Variable 'Yl:0' shape=() dtype=float32, numpy=0.0>,\n",
       " <tf.Variable 'Rw:0' shape=() dtype=float32, numpy=0.0>,\n",
       " <tf.Variable 'Gw:0' shape=() dtype=float32, numpy=0.0>,\n",
       " <tf.Variable 'Bw:0' shape=() dtype=float32, numpy=0.0>,\n",
       " <tf.Variable 'Yw:0' shape=() dtype=float32, numpy=0.0>)"
      ]
     },
     "execution_count": 29,
     "metadata": {},
     "output_type": "execute_result"
    }
   ],
   "source": [
    "weights = initialize_weights()\n",
    "weights"
   ]
  },
  {
   "cell_type": "code",
   "execution_count": 20,
   "metadata": {},
   "outputs": [],
   "source": [
    "k, kw = generate_images(weights, lambdas = np.linspace(380,770,300),\n",
    "                        central_lambda=450, width = 1, \n",
    "                        max_radiance=1.5e-3, background=0.2e-3)"
   ]
  },
  {
   "cell_type": "code",
   "execution_count": 21,
   "metadata": {},
   "outputs": [
    {
     "data": {
      "image/png": "[encoded data removed]",
      "text/plain": [
       "<Figure size 432x288 with 1 Axes>"
      ]
     },
     "metadata": {
      "needs_background": "light"
     },
     "output_type": "display_data"
    },
    {
     "data": {
      "image/png": "[encoded data removed]",
      "text/plain": [
       "<Figure size 432x288 with 1 Axes>"
      ]
     },
     "metadata": {
      "needs_background": "light"
     },
     "output_type": "display_data"
    }
   ],
   "source": [
    "plt.imshow(k)\n",
    "plt.show()\n",
    "plt.imshow(kw)\n",
    "plt.show()"
   ]
  },
  {
   "cell_type": "code",
   "execution_count": 10,
   "metadata": {},
   "outputs": [],
   "source": [
    "def compute_loss(weights, model):\n",
    "\timage_lambda, image_white = generate_images(weights)\n",
    "\tresponse_white = model.predict(image_white)\n",
    "\tresponse_lambda = model.predict(image_lambda)\n",
    "\tdist = (response_white - response_lambda)**2\n",
    "\tdist = tf.reduce_sum(dist, axis=[1,2,3])\n",
    "\treturn dist"
   ]
  },
  {
   "cell_type": "code",
   "execution_count": 11,
   "metadata": {},
   "outputs": [],
   "source": [
    "@tf.function\n",
    "def gradient_ascent_step(weights, model, learning_rate):\n",
    "\twith tf.GradientTape() as tape:\n",
    "\t\t# tape.watch(weights)\n",
    "\t\tloss = compute_loss(weights, model)\n",
    "\n",
    "\tgrads = tape.gradient(loss, weights)\n",
    "\tgrads = tf.math.l2_normalize(grads)\n",
    "\tweights += learning_rate * grads\n",
    "\n",
    "\treturn loss"
   ]
  },
  {
   "cell_type": "code",
   "execution_count": 10,
   "metadata": {},
   "outputs": [],
   "source": [
    "def modify_input(lambda_atd, white_atd, weights):\n",
    "    a = lambda_atd[1] + weights[0] - weights[1]\n",
    "    b = lambda_atd[2] + weights[2] - weights[3]\n",
    "    c = white_atd[1] + weights[4] - weights[5]\n",
    "    d = white_atd[2] + weights[6] - weights[7]\n",
    "    return tf.concat([lambda_atd[0], a, b], axis=-1), tf.concat([white_atd[0], c, d], axis=-1)"
   ]
  },
  {
   "cell_type": "markdown",
   "metadata": {},
   "source": [
    "## Easy example to figure things out first"
   ]
  },
  {
   "cell_type": "code",
   "execution_count": 39,
   "metadata": {},
   "outputs": [
    {
     "name": "stderr",
     "output_type": "stream",
     "text": [
      "2022-05-31 10:05:30.979508: I tensorflow/stream_executor/cuda/cuda_dnn.cc:369] Loaded cuDNN version 8100\n",
      "2022-05-31 10:05:31.530910: I tensorflow/core/platform/default/subprocess.cc:304] Start cannot spawn child process: No such file or directory\n"
     ]
    },
    {
     "name": "stdout",
     "output_type": "stream",
     "text": [
      "Epoch 1 -> Loss: [3130.6042] | Grads: [ 1772.633   1184.6328 -3215.1475]\n",
      "Epoch 21 -> Loss: [14.902995] | Grads: [45.00553    -0.40187073 13.835473  ]\n",
      "Epoch 41 -> Loss: [8.414309] | Grads: [18.236107  -0.5551491 10.854478 ]\n",
      "Epoch 61 -> Loss: [6.821553] | Grads: [ 8.23353   -0.5674019  8.8194475]\n",
      "Epoch 81 -> Loss: [6.2152348] | Grads: [ 3.4332542 -0.5606537  7.621319 ]\n",
      "Epoch 101 -> Loss: [5.8682017] | Grads: [ 0.7944579 -0.5602684  6.9674587]\n",
      "Epoch 121 -> Loss: [5.5877223] | Grads: [-0.7722645 -0.5777359  6.6731772]\n",
      "Epoch 141 -> Loss: [5.311189] | Grads: [-1.7500157  -0.61003494  6.6231155 ]\n",
      "Epoch 161 -> Loss: [5.0157204] | Grads: [-2.3896642  -0.65670013  6.741253  ]\n",
      "Epoch 181 -> Loss: [4.6903253] | Grads: [-2.8326805 -0.719738   6.9762387]\n",
      "Epoch 201 -> Loss: [4.328153] | Grads: [-3.1603317 -0.7972069  7.293211 ]\n",
      "Epoch 221 -> Loss: [3.9240196] | Grads: [-3.4201217 -0.8818245  7.664461 ]\n",
      "Epoch 241 -> Loss: [3.473658] | Grads: [-3.6292663 -0.987957   8.060777 ]\n",
      "Epoch 261 -> Loss: [2.9760244] | Grads: [-3.7854133 -1.0988884  8.444836 ]\n",
      "Epoch 281 -> Loss: [2.4355848] | Grads: [-3.8608584 -1.2171078  8.752228 ]\n",
      "Epoch 301 -> Loss: [1.8687932] | Grads: [-3.8076901 -1.3185368  8.878583 ]\n",
      "Epoch 321 -> Loss: [1.3094465] | Grads: [-3.5562992 -1.3773212  8.669309 ]\n",
      "Epoch 341 -> Loss: [0.8109101] | Grads: [-3.0607855 -1.3439159  7.954258 ]\n",
      "Epoch 361 -> Loss: [0.42933175] | Grads: [-2.3526826 -1.1827555  6.667307 ]\n",
      "Epoch 381 -> Loss: [0.190786] | Grads: [-1.5881534 -0.92558    4.9934516]\n",
      "Epoch 401 -> Loss: [0.07176712] | Grads: [-0.95032746 -0.6390486   3.3334508 ]\n",
      "Epoch 421 -> Loss: [0.02366151] | Grads: [-0.52620983 -0.3887658   2.0228293 ]\n",
      "Epoch 441 -> Loss: [0.00712826] | Grads: [-0.2794442  -0.22161317  1.1469572 ]\n",
      "Epoch 461 -> Loss: [0.00203029] | Grads: [-0.14402452 -0.12416065  0.62302166]\n",
      "Epoch 481 -> Loss: [0.00056177] | Grads: [-0.07339945 -0.06843549  0.3307358 ]\n",
      "Epoch 501 -> Loss: [0.00015224] | Grads: [-0.0390292  -0.03175405  0.17361216]\n",
      "Epoch 521 -> Loss: [4.112884e-05] | Grads: [-0.02040605 -0.02069525  0.08961201]\n",
      "Epoch 541 -> Loss: [1.1138876e-05] | Grads: [-0.01048525 -0.00446127  0.0479653 ]\n",
      "Epoch 561 -> Loss: [2.881369e-06] | Grads: [-0.00508701 -0.0035286   0.02421423]\n",
      "Epoch 581 -> Loss: [8.0355073e-07] | Grads: [-0.00291812 -0.00453607  0.01218338]\n",
      "Epoch 601 -> Loss: [2.1482286e-07] | Grads: [-0.00130779 -0.00084104  0.00662531]\n",
      "Epoch 621 -> Loss: [6.929364e-08] | Grads: [-0.00054499 -0.00238545  0.00335323]\n",
      "Epoch 641 -> Loss: [1.6802522e-08] | Grads: [ 0.00016212 -0.00163665  0.00148872]\n",
      "Epoch 661 -> Loss: [6.6231567e-09] | Grads: [ 0.00064266 -0.0015703   0.00073012]\n",
      "Epoch 681 -> Loss: [5.638967e-09] | Grads: [-0.00018771  0.00515141  0.00126837]\n",
      "Epoch 701 -> Loss: [5.9866068e-09] | Grads: [ 0.00105336 -0.00465997 -0.00032929]\n",
      "Epoch 721 -> Loss: [2.9549359e-09] | Grads: [ 2.6274647e-05 -2.2167927e-03 -1.6001813e-04]\n",
      "Epoch 741 -> Loss: [5.5498144e-09] | Grads: [-0.00145396  0.00324063  0.00040766]\n",
      "Epoch 761 -> Loss: [5.0686686e-09] | Grads: [-0.00123672  0.0020594   0.00046071]\n",
      "Epoch 781 -> Loss: [2.581395e-09] | Grads: [ 0.00046067 -0.00246803 -0.00038856]\n",
      "Epoch 801 -> Loss: [2.285867e-09] | Grads: [ 0.00010004 -0.00193992 -0.00037395]\n",
      "Epoch 821 -> Loss: [4.55978e-09] | Grads: [-0.00080069  0.00302925  0.00019737]\n",
      "Epoch 841 -> Loss: [3.293771e-09] | Grads: [ 0.00082546 -0.00216163 -0.00019626]\n",
      "Epoch 861 -> Loss: [4.7710347e-09] | Grads: [ 0.00093041 -0.00456114 -0.00083504]\n",
      "Epoch 881 -> Loss: [2.3327975e-09] | Grads: [ 9.7433716e-05 -1.9776011e-03 -3.7209457e-04]\n",
      "Epoch 901 -> Loss: [5.128841e-09] | Grads: [ 0.00110561 -0.00379707 -0.0004405 ]\n",
      "Epoch 921 -> Loss: [2.2170423e-09] | Grads: [-3.3823006e-05 -3.9296632e-05 -1.1400771e-06]\n",
      "Epoch 941 -> Loss: [2.2170423e-09] | Grads: [-3.3822991e-05 -3.9296719e-05 -1.1401062e-06]\n",
      "Epoch 961 -> Loss: [2.2170423e-09] | Grads: [-3.3822995e-05 -3.9296763e-05 -1.1401280e-06]\n",
      "Epoch 981 -> Loss: [2.2170423e-09] | Grads: [-3.3823006e-05 -3.9296734e-05 -1.1400916e-06]\n"
     ]
    }
   ],
   "source": [
    "EPOCHS = 1000\n",
    "norm_grads = False\n",
    "learning_rate = 3e-4\n",
    "\n",
    "## Initialize weights\n",
    "weights = tf.Variable([0,0,0], trainable=True, dtype=tf.float32)\n",
    "\n",
    "## Build images\n",
    "image_lambda = np.ones(shape=(1,384,512,3))*np.array([0,0,1])[None,:]\n",
    "image_white = np.ones(shape=(1,384,512,3))\n",
    "image_lambda = tf.convert_to_tensor(image_lambda, dtype=tf.float32)\n",
    "image_white = tf.convert_to_tensor(image_white, dtype=tf.float32)\n",
    "# image_white_mod = image_white\n",
    "for epoch in range(EPOCHS):\n",
    "    with tf.GradientTape() as tape:\n",
    "        ## Add the weights\n",
    "        image_white_mod = image_white + weights\n",
    "        # image_white_mod = tf.clip_by_value(image_white_mod, 0, 1)\n",
    "        ## Pass them through the model and calculate loss\n",
    "        response_lambda, response_white = model(image_lambda), model(image_white_mod)\n",
    "        loss = (response_white - response_lambda)**2\n",
    "        loss = tf.reduce_sum(loss, axis=[1,2,3])\n",
    "    ## Obtain gradients and update weights\n",
    "    grads = tape.gradient(loss, weights)\n",
    "\n",
    "    if epoch%20==0:\n",
    "        print(f'Epoch {epoch+1} -> Loss: {loss.numpy()} | Grads: {grads.numpy()}')\n",
    "\n",
    "    ## Normalize the gradients\n",
    "    if norm_grads:\n",
    "        grads = tf.math.l2_normalize(grads)\n",
    "    weights.assign_add(-learning_rate*grads)"
   ]
  },
  {
   "cell_type": "code",
   "execution_count": 41,
   "metadata": {},
   "outputs": [
    {
     "data": {
      "image/png": "[encoded data removed]",
      "text/plain": [
       "<Figure size 432x288 with 1 Axes>"
      ]
     },
     "metadata": {
      "needs_background": "light"
     },
     "output_type": "display_data"
    }
   ],
   "source": [
    "plt.imshow(image_lambda.numpy().squeeze())\n",
    "plt.show()"
   ]
  },
  {
   "cell_type": "code",
   "execution_count": 40,
   "metadata": {},
   "outputs": [
    {
     "name": "stderr",
     "output_type": "stream",
     "text": [
      "Clipping input data to the valid range for imshow with RGB data ([0..1] for floats or [0..255] for integers).\n"
     ]
    },
    {
     "data": {
      "image/png": "[encoded data removed]",
      "text/plain": [
       "<Figure size 432x288 with 1 Axes>"
      ]
     },
     "metadata": {
      "needs_background": "light"
     },
     "output_type": "display_data"
    }
   ],
   "source": [
    "plt.imshow(image_white_mod.numpy().squeeze())\n",
    "plt.show()"
   ]
  },
  {
   "cell_type": "markdown",
   "metadata": {},
   "source": [
    "## Modifying ATD\n",
    "\n",
    "The idea is to define a pair of images and move the weights in the direction that minimizes the distance in the transformed domain:"
   ]
  },
  {
   "cell_type": "code",
   "execution_count": 16,
   "metadata": {},
   "outputs": [
    {
     "data": {
      "application/vnd.jupyter.widget-view+json": {
       "model_id": "8621fc42ec4042caa27e5ade64158408",
       "version_major": 2,
       "version_minor": 0
      },
      "text/plain": [
       "  0%|          | 0/10000 [00:00<?, ?it/s]"
      ]
     },
     "metadata": {},
     "output_type": "display_data"
    }
   ],
   "source": [
    "EPOCHS = 10000\n",
    "norm_grads = False\n",
    "learning_rate = 3e-4\n",
    "losses = []\n",
    "gradients = []\n",
    "\n",
    "## Initialize weights\n",
    "weights = initialize_weights_2()\n",
    "\n",
    "atd_i, atd_w_i = generate_images_atd(lambdas = np.linspace(380,770,300),\n",
    "                                     central_lambda=450, width = 1, \n",
    "                                     max_radiance=1.5e-3, background=0.2e-3)\n",
    "\n",
    "for epoch in tqdm(range(EPOCHS)):\n",
    "    ## Pass them through the model and calculate loss\n",
    "    with tf.GradientTape() as tape:\n",
    "        ## Add the weights\n",
    "        atd_mod, atd_w_mod = modify_input(atd_i, atd_w_i, weights)\n",
    "        ## Transform from ATD -> RGB\n",
    "        rgb_mod = atd2nrgb_tf(atd_mod[:,None], gamma)\n",
    "        rgb_w_mod = atd2nrgb_tf(atd_w_mod[:,None], gamma)\n",
    "        ## Build the images\n",
    "        image_lambda_mod = tf.ones(shape=(1,384,512,3), dtype=tf.float32)*tf.transpose(rgb_mod, perm=[1,0])\n",
    "        image_white_mod = tf.ones(shape=(1,384,512,3), dtype=tf.float32)*tf.transpose(rgb_w_mod, perm=[1,0])\n",
    "        ## Pass them through the model and calculate loss\n",
    "        response_lambda, response_white = model(image_lambda_mod), model(image_white_mod)\n",
    "        loss = (response_white - response_lambda)**2\n",
    "        loss = tf.reduce_sum(loss, axis=[1,2,3])\n",
    "\n",
    "    ## Obtain gradients and update weights\n",
    "    grads = tape.gradient(loss, weights)\n",
    "\n",
    "    # if epoch%50==0:\n",
    "    #         print(f'Epoch {epoch+1} -> Loss: {loss.numpy()} | Grads: {grads.numpy()}')\n",
    "    losses.append(loss.numpy().mean())\n",
    "    gradients.append(grads.numpy().mean())\n",
    "\n",
    "    ## Normalize the gradients\n",
    "    if norm_grads:\n",
    "        grads = tf.math.l2_normalize(grads)\n",
    "    weights.assign_add(-learning_rate*grads)"
   ]
  },
  {
   "cell_type": "code",
   "execution_count": 19,
   "metadata": {},
   "outputs": [
    {
     "data": {
      "text/plain": [
       "<tf.Variable 'Variable:0' shape=(8,) dtype=float32, numpy=\n",
       "array([ 0.86736846, -0.86736846,  0.16549611, -0.16549611,  0.10432528,\n",
       "       -0.10432528,  3.9356756 , -3.9356756 ], dtype=float32)>"
      ]
     },
     "execution_count": 19,
     "metadata": {},
     "output_type": "execute_result"
    }
   ],
   "source": [
    "weights"
   ]
  },
  {
   "cell_type": "code",
   "execution_count": 17,
   "metadata": {},
   "outputs": [
    {
     "data": {
      "image/png": "[encoded data removed]",
      "text/plain": [
       "<Figure size 432x288 with 2 Axes>"
      ]
     },
     "metadata": {
      "needs_background": "light"
     },
     "output_type": "display_data"
    }
   ],
   "source": [
    "fig, ax = plt.subplots(1,2)\n",
    "\n",
    "ax[0].plot(losses)\n",
    "ax[0].set_title('Loss')\n",
    "ax[1].plot(gradients)\n",
    "ax[1].set_title('Gradients (Mean)')\n",
    "\n",
    "plt.show()"
   ]
  },
  {
   "cell_type": "code",
   "execution_count": 18,
   "metadata": {},
   "outputs": [
    {
     "data": {
      "image/png": "[encoded data removed]",
      "text/plain": [
       "<Figure size 432x288 with 1 Axes>"
      ]
     },
     "metadata": {
      "needs_background": "light"
     },
     "output_type": "display_data"
    },
    {
     "data": {
      "image/png": "[encoded data removed]",
      "text/plain": [
       "<Figure size 432x288 with 1 Axes>"
      ]
     },
     "metadata": {
      "needs_background": "light"
     },
     "output_type": "display_data"
    }
   ],
   "source": [
    "plt.imshow(image_lambda_mod.numpy().squeeze())\n",
    "plt.show()\n",
    "plt.imshow(image_white_mod.numpy().squeeze())\n",
    "plt.show()"
   ]
  },
  {
   "cell_type": "markdown",
   "metadata": {},
   "source": [
    "## Changing the amount of a wavelength that is considered\n",
    "\n",
    "The idea is to have a set of fixed wavelengths where the trained weights are the \"amount\" of each wavelength that is put into the image."
   ]
  },
  {
   "cell_type": "code",
   "execution_count": 11,
   "metadata": {},
   "outputs": [],
   "source": [
    "def generate_images_atd(lambdas = np.linspace(380,770,300),\n",
    "                        central_lambda=550, width = np.inf, \n",
    "                        max_radiance=1.5e-3, background=0.2e-3):\n",
    "    \"\"\"\n",
    "    Generates images in ATD space.\n",
    "    Parameters\n",
    "    ----------\n",
    "    weights:\n",
    "    \n",
    "    Returns\n",
    "    -------\n",
    "    image_lambda:\n",
    "\n",
    "    image_white:\n",
    "    \"\"\"\n",
    "    ## Generate the monochromatic stimilus\n",
    "    monochromatic_spectrum = monochomatic_stimulus(central_lambda, lambdas, width, max_radiance, background)\n",
    "\n",
    "    ## Get the tristimilus values from the spectrum\n",
    "    tristimulus_values = spect2tri(lambdas, monochromatic_spectrum, lambdas_reflectance = None, reflectance = None, spectrum_luminance = None)\n",
    "\n",
    "    ## Transform from XYZ -> ATD\n",
    "    atd = xyz2atd(tristimulus_values)\n",
    "\n",
    "    ## Generate the (white) monochromatic stimilus\n",
    "    monochromatic_spectrum_w = monochomatic_stimulus(central_lambda, lambdas, width=np.inf, max_radiance=max_radiance, background=background)\n",
    "\n",
    "    ## Get the tristimilus values from the spectrum\n",
    "    tristimulus_values_w = spect2tri(lambdas, monochromatic_spectrum_w, lambdas_reflectance = None, reflectance = None, spectrum_luminance = None)\n",
    "\n",
    "    ## Transform from XYZ -> ATD\n",
    "    atd = xyz2atd(tristimulus_values)\n",
    "    atd_w = xyz2atd(tristimulus_values_w)\n",
    "\n",
    "    ## Create the images\n",
    "    # image_lambda = np.zeros((*size, 3)) + 0.5\n",
    "    # image_lambda[1,1,:] = atd.ravel()\n",
    "    # image_white = np.zeros((*size, 3)) + 0.5\n",
    "    # image_white[1,1,:] = atd_w.ravel()\n",
    "\n",
    "    return atd, atd_w"
   ]
  },
  {
   "cell_type": "code",
   "execution_count": 97,
   "metadata": {},
   "outputs": [],
   "source": [
    "lambdas = tf.convert_to_tensor(np.linspace(380,770,300), dtype=tf.float32)\n",
    "central_lambda=tf.constant(550, dtype=tf.float32)\n",
    "width = tf.constant(np.inf, dtype=tf.float32)\n",
    "max_radiance=tf.constant(1.5e-3, dtype=tf.float32)\n",
    "background=tf.constant(0.5e-4, dtype=tf.float32)\n",
    "size = (28,28)"
   ]
  },
  {
   "cell_type": "code",
   "execution_count": 12,
   "metadata": {},
   "outputs": [
    {
     "data": {
      "text/plain": [
       "<tf.Variable 'Variable:0' shape=(4,) dtype=float32, numpy=array([0., 0., 0., 0.], dtype=float32)>"
      ]
     },
     "execution_count": 12,
     "metadata": {},
     "output_type": "execute_result"
    }
   ],
   "source": [
    "weights = tf.Variable([0.0,0.0,0.0,0.0], trainable=True, dtype=tf.float32)\n",
    "weights"
   ]
  },
  {
   "cell_type": "code",
   "execution_count": 15,
   "metadata": {},
   "outputs": [
    {
     "data": {
      "text/plain": [
       "(4, 300)"
      ]
     },
     "execution_count": 15,
     "metadata": {},
     "output_type": "execute_result"
    }
   ],
   "source": [
    "## Generate the monochromatic stimilus\n",
    "# monochromatic_spectrum = monochomatic_stimulus(central_lambda, lambdas, width, max_radiance, background)\n",
    "central_lambdas = [475, 500, 580, 700]\n",
    "spectrums = np.array([monochomatic_stimulus_2(central_lambdas[i], lambdas, width=5, max_radiance=max_radiance*tf.abs(weights[i]), background=background) for i in range(len(central_lambdas))])\n",
    "spectrums.shape"
   ]
  },
  {
   "cell_type": "code",
   "execution_count": 16,
   "metadata": {},
   "outputs": [],
   "source": [
    "spectrum_lambda = monochomatic_stimulus_2(central_lambda=550, lambdas=lambdas, width=5, max_radiance=max_radiance, background=background)\n",
    "spectrum_white = monochomatic_stimulus_2(central_lambda=550, lambdas=lambdas, width=np.inf, max_radiance=0, background=background)"
   ]
  },
  {
   "cell_type": "code",
   "execution_count": 17,
   "metadata": {},
   "outputs": [],
   "source": [
    "for i in range(len(central_lambdas)):\n",
    "    if weights[i] >= 0:\n",
    "        spectrum_lambda = spectrum_lambda + spectrums[i]\n",
    "    else:\n",
    "        spectrum_white = spectrum_white + spectrums[i]"
   ]
  },
  {
   "cell_type": "code",
   "execution_count": 18,
   "metadata": {},
   "outputs": [
    {
     "data": {
      "text/plain": [
       "(array([[22.23362615],\n",
       "        [27.35799746],\n",
       "        [17.98256129]]),\n",
       " array([[27.22165314],\n",
       "        [27.35799746],\n",
       "        [26.6747488 ]]))"
      ]
     },
     "execution_count": 18,
     "metadata": {},
     "output_type": "execute_result"
    }
   ],
   "source": [
    "tristimulus_xyz_lambda = spect2tri(lambdas, spectrum_lambda, lambdas_reflectance = None, reflectance = None, spectrum_luminance = None)\n",
    "tristimulus_xyz_white = spect2tri(lambdas, spectrum_white, lambdas_reflectance = None, reflectance = None, spectrum_luminance = tristimulus_xyz_lambda[1])\n",
    "\n",
    "tristimulus_xyz_lambda, tristimulus_xyz_white"
   ]
  },
  {
   "cell_type": "code",
   "execution_count": 105,
   "metadata": {},
   "outputs": [
    {
     "data": {
      "image/png": "[encoded data removed]",
      "text/plain": [
       "<Figure size 432x288 with 1 Axes>"
      ]
     },
     "metadata": {
      "needs_background": "light"
     },
     "output_type": "display_data"
    }
   ],
   "source": [
    "sat, nrgb = xyz2nrgb(tristimulus_xyz_white, gamma)\n",
    "img = np.ones(shape=(3,3,3))*nrgb.T\n",
    "plt.imshow(img)\n",
    "plt.show()"
   ]
  },
  {
   "cell_type": "code",
   "execution_count": 54,
   "metadata": {},
   "outputs": [],
   "source": [
    "def norm_spectrum_luminance_tf(lambdas, spectrum, luminance):\n",
    "    \"\"\"\n",
    "    Normalize a spectrum with a desired luminance. Returns the original luminance and the new lambdas and normalized spectrum after the interpolation.\n",
    "    \"\"\"\n",
    "    V_l = T_lambda[:,2]\n",
    "    lambdas_Y = T_lambda[:,0]\n",
    "\n",
    "    min_abs, max_abs = np.min(np.concatenate([lambdas_Y, lambdas])), np.max(np.concatenate([lambdas_Y, lambdas]))\n",
    "    new_lambda = np.arange(min_abs, max_abs, 1, dtype=np.float32)\n",
    "\n",
    "    interpol_spectrum = tfp.math.interp_regular_1d_grid(new_lambda, lambdas[0], lambdas[-1], \n",
    "                                                        spectrum, fill_value='extrapolate')\n",
    "                                                        # fill_value_below=spectrum[0], fill_value_above=spectrum[-1])\n",
    "    interpol_V_l = tfp.math.interp_regular_1d_grid(new_lambda, lambdas_Y[0], lambdas_Y[-1], \n",
    "                                                            V_l, fill_value='extrapolate')\n",
    "                                                            # fill_value_below=V_l[0], fill_value_above=V_l[-1])\n",
    "    Y = km*tfp.math.trapz(y=interpol_spectrum*interpol_V_l, x=new_lambda)\n",
    "    interpol_spectrum = luminance * interpol_spectrum/Y\n",
    "    return Y, new_lambda, interpol_spectrum"
   ]
  },
  {
   "cell_type": "code",
   "execution_count": 55,
   "metadata": {},
   "outputs": [],
   "source": [
    "def spect2tri_xyz_tf(lambdas, spectrum, lambdas_reflectance = None, reflectance = None, spectrum_luminance = None):\n",
    "    \"\"\"\n",
    "    Calculates the tristimulus values of a spectrum. It needs the wavelengths and the spectrum. Reflectance with its wavelenghts are optional.\n",
    "    Spectrum_luminance is optional and it normalizes the spectrum with the desired luminance.\n",
    "    \"\"\"\n",
    "    lambdas_Y = T_lambda[:,0]\n",
    "\n",
    "    if spectrum_luminance is not None:\n",
    "        Y, lambdas, spectrum = norm_spectrum_luminance_tf(lambdas, spectrum, spectrum_luminance)\n",
    "\n",
    "    if (reflectance is not None) and (lambdas_reflectance is not None):\n",
    "        min_abs, max_abs = np.min(np.concatenate([lambdas_Y, lambdas, lambdas_reflectance])), np.max(np.concatenate([lambdas_Y, lambdas, lambdas_reflectance]))\n",
    "        new_lambda = np.arange(min_abs, max_abs, 1, dtype=np.float32)\n",
    "\n",
    "        interpol_reflectance = tfp.math.interp_regular_1d_grid(new_lambda, lambdas_reflectance[0], lambdas_reflectance[-1], \n",
    "                                                               reflectance, fill_value='extrapolate')\n",
    "                                                            #    fill_value_below=reflectance[0], fill_value_above=reflectance[-1])\n",
    "        interpol_spectrum = tfp.math.interp_regular_1d_grid(new_lambda, lambdas[0], lambdas[-1], \n",
    "                                                            spectrum, fill_value='extrapolate')\n",
    "                                                            # fill_value_below=spectrum[0], fill_value_above=spectrum[-1])\n",
    "\n",
    "        interpol_spectrum = interpol_spectrum*interpol_reflectance\n",
    "\n",
    "    else:\n",
    "        min_abs, max_abs = np.min(np.concatenate([lambdas_Y, lambdas])), np.max(np.concatenate([lambdas_Y, lambdas]))\n",
    "        new_lambda = np.arange(min_abs, max_abs, 1, dtype=np.float32)\n",
    "\n",
    "        interpol_spectrum = tfp.math.interp_regular_1d_grid(new_lambda, lambdas[0], lambdas[-1], \n",
    "                                                            spectrum, fill_value='extrapolate')\n",
    "                                                            # fill_value_below=spectrum[0], fill_value_above=spectrum[-1])\n",
    "\n",
    "    tristimulus_values = np.zeros((3,1))\n",
    "    for i in range(3):\n",
    "        T_i = T_lambda[:,i+1]\n",
    "        T_i = tfp.math.interp_regular_1d_grid(new_lambda, lambdas_Y[0], lambdas_Y[-1], \n",
    "                                              T_i, fill_value='extrapolate')\n",
    "                                            #   fill_value_below=T_i[0], fill_value_above=T_i[-1])\n",
    "\n",
    "        tristimulus_values[i,0] = km*tfp.math.trapz(y=interpol_spectrum*T_i, x=new_lambda)\n",
    "\n",
    "    return tristimulus_values"
   ]
  },
  {
   "cell_type": "code",
   "execution_count": 56,
   "metadata": {},
   "outputs": [
    {
     "data": {
      "text/plain": [
       "(array([[22.16334343],\n",
       "        [27.32665253],\n",
       "        [17.98540688]]),\n",
       " array([[27.19046211],\n",
       "        [27.32665062],\n",
       "        [26.64418602]]))"
      ]
     },
     "execution_count": 56,
     "metadata": {},
     "output_type": "execute_result"
    }
   ],
   "source": [
    "tristimulus_xyz_lambda = spect2tri_xyz_tf(lambdas.astype(np.float32), spectrum_lambda.astype(np.float32),\n",
    "                                          lambdas_reflectance=None, reflectance=None, spectrum_luminance=None)\n",
    "tristimulus_xyz_white = spect2tri_xyz_tf(lambdas.astype(np.float32), spectrum_white.astype(np.float32),\n",
    "                                          lambdas_reflectance=None, reflectance=None, \n",
    "                                          spectrum_luminance=tristimulus_xyz_lambda[1,0].item())\n",
    "tristimulus_xyz_lambda, tristimulus_xyz_white"
   ]
  },
  {
   "cell_type": "code",
   "execution_count": 60,
   "metadata": {},
   "outputs": [
    {
     "data": {
      "text/plain": [
       "array([[0.38381357],\n",
       "       [0.46126582],\n",
       "       [0.33429498]])"
      ]
     },
     "execution_count": 60,
     "metadata": {},
     "output_type": "execute_result"
    }
   ],
   "source": [
    "sat, rgb = xyz2nrgb_tf(tristimulus_xyz_lambda, gamma)\n",
    "rgb"
   ]
  },
  {
   "cell_type": "code",
   "execution_count": 94,
   "metadata": {},
   "outputs": [],
   "source": [
    "def generate_images_rgb_tf(weights, spectrum_lambda, spectrum_white, shape=(1,384,512,3)):\n",
    "    # spectrums = np.array([monochomatic_stimulus_2(central_lambdas[i], lambdas, width=5, max_radiance=max_radiance*tf.abs(weights[i]), background=background) for i in range(len(central_lambdas))])\n",
    "\n",
    "    for i in range(len(central_lambdas)):\n",
    "        spectrum = monochomatic_stimulus_2_tf(central_lambdas[i], lambdas, width=5, max_radiance=max_radiance*tf.abs(weights[i]), background=background)\n",
    "        if weights[i] >= 0:\n",
    "            spectrum_lambda = spectrum_lambda + spectrum\n",
    "        else:\n",
    "            spectrum_white = spectrum_white + spectrum\n",
    "\n",
    "    tristimulus_xyz_lambda = spect2tri_xyz_tf(tf.cast(lambdas, tf.float32), tf.cast(spectrum_lambda, tf.float32),\n",
    "                                            lambdas_reflectance=None, reflectance=None, spectrum_luminance=None)\n",
    "    tristimulus_xyz_white = spect2tri_xyz_tf(tf.cast(lambdas, tf.float32), tf.cast(spectrum_white, tf.float32),\n",
    "                                            lambdas_reflectance=None, reflectance=None, \n",
    "                                            spectrum_luminance=tristimulus_xyz_lambda[1,0].item())\n",
    "\n",
    "    sat, rgb_lambda = xyz2nrgb_tf(tristimulus_xyz_lambda, gamma)\n",
    "    sat, rgb_white = xyz2nrgb_tf(tristimulus_xyz_white, gamma)\n",
    "\n",
    "    img_lambda = tf.ones(shape, dtype=tf.float32)*tf.cast(tf.transpose(rgb_lambda, perm=[1,0]), tf.float32)\n",
    "    img_white = tf.ones(shape, dtype=tf.float32)*tf.cast(tf.transpose(rgb_white, perm=[1,0]), tf.float32)\n",
    "\n",
    "    return img_lambda, img_white"
   ]
  },
  {
   "cell_type": "code",
   "execution_count": 63,
   "metadata": {},
   "outputs": [],
   "source": [
    "spectrum_lambda = monochomatic_stimulus_2(central_lambda=550, lambdas=lambdas, width=5, max_radiance=max_radiance, background=background)\n",
    "spectrum_white = monochomatic_stimulus_2(central_lambda=550, lambdas=lambdas, width=np.inf, max_radiance=0, background=background)"
   ]
  },
  {
   "cell_type": "code",
   "execution_count": 66,
   "metadata": {},
   "outputs": [],
   "source": [
    "l, w = generate_images_rgb_tf(weights, spectrum_lambda, spectrum_white, shape=(1,384,512,3))"
   ]
  },
  {
   "cell_type": "code",
   "execution_count": 100,
   "metadata": {},
   "outputs": [
    {
     "data": {
      "application/vnd.jupyter.widget-view+json": {
       "model_id": "f4df870abcc64d73b5a6fc7e1f63499c",
       "version_major": 2,
       "version_minor": 0
      },
      "text/plain": [
       "  0%|          | 0/1 [00:00<?, ?it/s]"
      ]
     },
     "metadata": {},
     "output_type": "display_data"
    },
    {
     "name": "stdout",
     "output_type": "stream",
     "text": [
      "<tf.Variable 'Variable:0' shape=(4,) dtype=float32, numpy=array([0., 0., 0., 0.], dtype=float32)> tf.Tensor([45.04224], shape=(1,), dtype=float32) None\n"
     ]
    },
    {
     "ename": "AttributeError",
     "evalue": "'NoneType' object has no attribute 'numpy'",
     "output_type": "error",
     "traceback": [
      "\u001b[0;31m---------------------------------------------------------------------------\u001b[0m",
      "\u001b[0;31mAttributeError\u001b[0m                            Traceback (most recent call last)",
      "\u001b[0;32m/tmp/ipykernel_5164/2284729109.py\u001b[0m in \u001b[0;36m<module>\u001b[0;34m\u001b[0m\n\u001b[1;32m     28\u001b[0m     \u001b[0;31m#         print(f'Epoch {epoch+1} -> Loss: {loss.numpy()} | Grads: {grads.numpy()}')\u001b[0m\u001b[0;34m\u001b[0m\u001b[0;34m\u001b[0m\u001b[0;34m\u001b[0m\u001b[0m\n\u001b[1;32m     29\u001b[0m     \u001b[0mlosses\u001b[0m\u001b[0;34m.\u001b[0m\u001b[0mappend\u001b[0m\u001b[0;34m(\u001b[0m\u001b[0mloss\u001b[0m\u001b[0;34m.\u001b[0m\u001b[0mnumpy\u001b[0m\u001b[0;34m(\u001b[0m\u001b[0;34m)\u001b[0m\u001b[0;34m.\u001b[0m\u001b[0mmean\u001b[0m\u001b[0;34m(\u001b[0m\u001b[0;34m)\u001b[0m\u001b[0;34m)\u001b[0m\u001b[0;34m\u001b[0m\u001b[0;34m\u001b[0m\u001b[0m\n\u001b[0;32m---> 30\u001b[0;31m     \u001b[0mgradients\u001b[0m\u001b[0;34m.\u001b[0m\u001b[0mappend\u001b[0m\u001b[0;34m(\u001b[0m\u001b[0mnp\u001b[0m\u001b[0;34m.\u001b[0m\u001b[0mabs\u001b[0m\u001b[0;34m(\u001b[0m\u001b[0mgrads\u001b[0m\u001b[0;34m.\u001b[0m\u001b[0mnumpy\u001b[0m\u001b[0;34m(\u001b[0m\u001b[0;34m)\u001b[0m\u001b[0;34m)\u001b[0m\u001b[0;34m.\u001b[0m\u001b[0mmean\u001b[0m\u001b[0;34m(\u001b[0m\u001b[0;34m)\u001b[0m\u001b[0;34m)\u001b[0m\u001b[0;34m\u001b[0m\u001b[0;34m\u001b[0m\u001b[0m\n\u001b[0m\u001b[1;32m     31\u001b[0m \u001b[0;34m\u001b[0m\u001b[0m\n\u001b[1;32m     32\u001b[0m     \u001b[0;31m## Normalize the gradients\u001b[0m\u001b[0;34m\u001b[0m\u001b[0;34m\u001b[0m\u001b[0;34m\u001b[0m\u001b[0m\n",
      "\u001b[0;31mAttributeError\u001b[0m: 'NoneType' object has no attribute 'numpy'"
     ]
    }
   ],
   "source": [
    "EPOCHS = 1\n",
    "central_lambdas = [475, 500, 580, 700]\n",
    "norm_grads = False\n",
    "learning_rate = 3e-4\n",
    "losses = []\n",
    "gradients = []\n",
    "\n",
    "## Initialize weights\n",
    "weights = tf.Variable([0.0,0.0,0.0,0.0], trainable=True, dtype=tf.float32)\n",
    "\n",
    "\n",
    "spectrum_lambda = monochomatic_stimulus_2_tf(central_lambda=550, lambdas=lambdas, width=5, max_radiance=max_radiance, background=background)\n",
    "spectrum_white = monochomatic_stimulus_2_tf(central_lambda=550, lambdas=lambdas, width=np.inf, max_radiance=0, background=background)\n",
    "\n",
    "for epoch in tqdm(range(EPOCHS)):\n",
    "    ## Pass them through the model and calculate loss\n",
    "    with tf.GradientTape() as tape:\n",
    "        image_lambda_mod, image_white_mod = generate_images_rgb_tf(weights, spectrum_lambda, spectrum_white, shape=(1,384,512,3))\n",
    "        ## Pass them through the model and calculate loss\n",
    "        response_lambda, response_white = model(image_lambda_mod), model(image_white_mod)\n",
    "        loss = (response_white - response_lambda)**2\n",
    "        loss = tf.reduce_sum(loss, axis=[1,2,3])\n",
    "\n",
    "    ## Obtain gradients and update weights\n",
    "    grads = tape.gradient(loss, weights)\n",
    "    print(weights, loss, grads)\n",
    "    # if epoch%50==0:\n",
    "    #         print(f'Epoch {epoch+1} -> Loss: {loss.numpy()} | Grads: {grads.numpy()}')\n",
    "    losses.append(loss.numpy().mean())\n",
    "    gradients.append(np.abs(grads.numpy()).mean())\n",
    "\n",
    "    ## Normalize the gradients\n",
    "    if norm_grads:\n",
    "        grads = tf.math.l2_normalize(grads)\n",
    "    weights.assign_add(-learning_rate*grads)"
   ]
  },
  {
   "cell_type": "code",
   "execution_count": 71,
   "metadata": {},
   "outputs": [],
   "source": [
    "grads"
   ]
  },
  {
   "cell_type": "code",
   "execution_count": null,
   "metadata": {},
   "outputs": [
    {
     "data": {
      "text/plain": [
       "<tf.Variable 'Variable:0' shape=(8,) dtype=float32, numpy=\n",
       "array([ 0.86736846, -0.86736846,  0.16549611, -0.16549611,  0.10432528,\n",
       "       -0.10432528,  3.9356756 , -3.9356756 ], dtype=float32)>"
      ]
     },
     "metadata": {},
     "output_type": "display_data"
    }
   ],
   "source": [
    "weights"
   ]
  },
  {
   "cell_type": "code",
   "execution_count": null,
   "metadata": {},
   "outputs": [
    {
     "data": {
      "image/png": "[encoded data removed]",
      "text/plain": [
       "<Figure size 432x288 with 2 Axes>"
      ]
     },
     "metadata": {},
     "output_type": "display_data"
    }
   ],
   "source": [
    "fig, ax = plt.subplots(1,2)\n",
    "\n",
    "ax[0].plot(losses)\n",
    "ax[0].set_title('Loss')\n",
    "ax[1].plot(gradients)\n",
    "ax[1].set_title('Gradients (Mean)')\n",
    "\n",
    "plt.show()"
   ]
  }
 ],
 "metadata": {
  "interpreter": {
   "hash": "0e5e7d3ec6da8cae83531001485d926ded04fa3b6e3dfe28c110c78c0ec74159"
  },
  "kernelspec": {
   "display_name": "Python 3.8.12 ('tf26')",
   "language": "python",
   "name": "python3"
  },
  "language_info": {
   "codemirror_mode": {
    "name": "ipython",
    "version": 3
   },
   "file_extension": ".py",
   "mimetype": "text/x-python",
   "name": "python",
   "nbconvert_exporter": "python",
   "pygments_lexer": "ipython3",
   "version": "3.8.12"
  },
  "orig_nbformat": 4
 },
 "nbformat": 4,
 "nbformat_minor": 2
}
