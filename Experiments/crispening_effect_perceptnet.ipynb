{
 "cells": [
  {
   "cell_type": "markdown",
   "metadata": {},
   "source": [
    "# Crispening Effect\n",
    "\n",
    "The idea is to generate a gradient of colors which are linearly spaced in the ATD color spaces (oponent color channels) and then change their background to see if the perceived luminance changes or not."
   ]
  },
  {
   "cell_type": "markdown",
   "metadata": {},
   "source": [
    "## Importing libraries"
   ]
  },
  {
   "cell_type": "code",
   "execution_count": 1,
   "metadata": {},
   "outputs": [],
   "source": [
    "import os\n",
    "os.environ[\"CUDA_VISIBLE_DEVICES\"]=\"2\"\n",
    "\n",
    "import numpy as np\n",
    "import matplotlib.pyplot as plt\n",
    "from tensorflow.keras.utils import get_file\n",
    "\n",
    "from perceptnet.networks import PerceptNet\n",
    "from perceptualtests.color_matrices import *\n",
    "from perceptualtests.colored_squares import create_colored_square"
   ]
  },
  {
   "cell_type": "markdown",
   "metadata": {},
   "source": [
    "## Generating the colors"
   ]
  },
  {
   "cell_type": "code",
   "execution_count": 2,
   "metadata": {},
   "outputs": [],
   "source": [
    "N = 11\n",
    "img_size = (384, 512)\n",
    "square_size = (192,256)"
   ]
  },
  {
   "cell_type": "code",
   "execution_count": 3,
   "metadata": {},
   "outputs": [
    {
     "data": {
      "text/plain": [
       "(3, 11)"
      ]
     },
     "execution_count": 3,
     "metadata": {},
     "output_type": "execute_result"
    }
   ],
   "source": [
    "atd = np.array([[10,a,0] for a in np.linspace(-5,5,N)]).T\n",
    "atd.shape"
   ]
  },
  {
   "cell_type": "code",
   "execution_count": 4,
   "metadata": {},
   "outputs": [],
   "source": [
    "def atd2rgb(atd):\n",
    "    \"\"\"\n",
    "    Expects and atd color column vector.\n",
    "    \"\"\"\n",
    "    rgb = Mxyz2ng@Matd2xyz@atd\n",
    "    rgb = np.power(rgb, gamma[:,None])\n",
    "    return rgb"
   ]
  },
  {
   "cell_type": "code",
   "execution_count": 5,
   "metadata": {},
   "outputs": [
    {
     "data": {
      "text/plain": [
       "(3, 11)"
      ]
     },
     "execution_count": 5,
     "metadata": {},
     "output_type": "execute_result"
    }
   ],
   "source": [
    "rgb = atd2rgb(atd)\n",
    "rgb.shape"
   ]
  },
  {
   "cell_type": "code",
   "execution_count": 6,
   "metadata": {},
   "outputs": [],
   "source": [
    "imgs = np.ones(shape=(*img_size,3,N))\n",
    "imgs *= rgb[None,None,:,:]"
   ]
  },
  {
   "cell_type": "markdown",
   "metadata": {},
   "source": [
    "## Generating the colored squares\n",
    "\n",
    "The most basic approach is moving the background so that everycolor acts as the background once:"
   ]
  },
  {
   "cell_type": "code",
   "execution_count": 7,
   "metadata": {},
   "outputs": [
    {
     "data": {
      "image/png": "[encoded data removed]",
      "text/plain": [
       "<Figure size 432x288 with 11 Axes>"
      ]
     },
     "metadata": {
      "needs_background": "light"
     },
     "output_type": "display_data"
    },
    {
     "data": {
      "image/png": "[encoded data removed]",
      "text/plain": [
       "<Figure size 432x288 with 11 Axes>"
      ]
     },
     "metadata": {
      "needs_background": "light"
     },
     "output_type": "display_data"
    },
    {
     "data": {
      "image/png": "[encoded data removed]",
      "text/plain": [
       "<Figure size 432x288 with 11 Axes>"
      ]
     },
     "metadata": {
      "needs_background": "light"
     },
     "output_type": "display_data"
    },
    {
     "data": {
      "image/png": "[encoded data removed]",
      "text/plain": [
       "<Figure size 432x288 with 11 Axes>"
      ]
     },
     "metadata": {
      "needs_background": "light"
     },
     "output_type": "display_data"
    },
    {
     "data": {
      "image/png": "[encoded data removed]",
      "text/plain": [
       "<Figure size 432x288 with 11 Axes>"
      ]
     },
     "metadata": {
      "needs_background": "light"
     },
     "output_type": "display_data"
    },
    {
     "data": {
      "image/png": "[encoded data removed]",
      "text/plain": [
       "<Figure size 432x288 with 11 Axes>"
      ]
     },
     "metadata": {
      "needs_background": "light"
     },
     "output_type": "display_data"
    },
    {
     "data": {
      "image/png": "[encoded data removed]",
      "text/plain": [
       "<Figure size 432x288 with 11 Axes>"
      ]
     },
     "metadata": {
      "needs_background": "light"
     },
     "output_type": "display_data"
    },
    {
     "data": {
      "image/png": "[encoded data removed]",
      "text/plain": [
       "<Figure size 432x288 with 11 Axes>"
      ]
     },
     "metadata": {
      "needs_background": "light"
     },
     "output_type": "display_data"
    },
    {
     "data": {
      "image/png": "[encoded data removed]",
      "text/plain": [
       "<Figure size 432x288 with 11 Axes>"
      ]
     },
     "metadata": {
      "needs_background": "light"
     },
     "output_type": "display_data"
    },
    {
     "data": {
      "image/png": "[encoded data removed]",
      "text/plain": [
       "<Figure size 432x288 with 11 Axes>"
      ]
     },
     "metadata": {
      "needs_background": "light"
     },
     "output_type": "display_data"
    },
    {
     "data": {
      "image/png": "[encoded data removed]",
      "text/plain": [
       "<Figure size 432x288 with 11 Axes>"
      ]
     },
     "metadata": {
      "needs_background": "light"
     },
     "output_type": "display_data"
    }
   ],
   "source": [
    "for bgc in rgb.T:\n",
    "    fig, ax = plt.subplots(1,len(rgb.T))\n",
    "    for axis, sqc in zip(ax, rgb.T):\n",
    "        a = create_colored_square(img_size=img_size,\n",
    "                                  square_size=square_size,\n",
    "                                  square_color=sqc,\n",
    "                                  bg_color=bgc)\n",
    "        axis.imshow(a)\n",
    "        axis.axis('off')\n",
    "    plt.show()"
   ]
  },
  {
   "cell_type": "markdown",
   "metadata": {},
   "source": [
    "By doing so we end up with `N` different samples of the effect (`N^2` images)."
   ]
  },
  {
   "cell_type": "markdown",
   "metadata": {},
   "source": [
    "## Passing the colors through the network"
   ]
  },
  {
   "cell_type": "code",
   "execution_count": 8,
   "metadata": {},
   "outputs": [],
   "source": [
    "weights_path = get_file(fname='perceptnet_rgb.h5',\n",
    "                        origin='https://github.com/Jorgvt/perceptnet/releases/download/Weights/final_model_rgb.h5')"
   ]
  },
  {
   "cell_type": "code",
   "execution_count": 9,
   "metadata": {},
   "outputs": [
    {
     "name": "stderr",
     "output_type": "stream",
     "text": [
      "2022-04-27 17:14:04.706274: I tensorflow/core/common_runtime/gpu/gpu_device.cc:1510] Created device /job:localhost/replica:0/task:0/device:GPU:0 with 5290 MB memory:  -> device: 0, name: NVIDIA GeForce GTX TITAN Black, pci bus id: 0000:83:00.0, compute capability: 3.5\n"
     ]
    }
   ],
   "source": [
    "model = PerceptNet(kernel_initializer='ones', gdn_kernel_size=1, learnable_undersampling=False)\n",
    "model.build(input_shape=(None, 384, 512, 3))\n",
    "model.load_weights(weights_path)"
   ]
  },
  {
   "cell_type": "markdown",
   "metadata": {},
   "source": [
    "We can do the processing on the fly to save memory:"
   ]
  },
  {
   "cell_type": "code",
   "execution_count": 12,
   "metadata": {},
   "outputs": [],
   "source": [
    "all_readouts = np.empty(shape=(N,N))\n",
    "\n",
    "for idx_bg, bgc in enumerate(rgb.T):\n",
    "    colored_squares = np.empty(shape=(N,*img_size,3))\n",
    "    ## Generate all the colored squares with a fixed bg_color\n",
    "    for i, sqc in enumerate(rgb.T):\n",
    "        colored_square = create_colored_square(img_size=img_size,\n",
    "                                               square_size=square_size,\n",
    "                                               square_color=sqc,\n",
    "                                               bg_color=bgc)\n",
    "        colored_squares[i] = colored_square\n",
    "\n",
    "    ## Normalize the images\n",
    "    colored_squares = (colored_squares-colored_squares.min())/(colored_squares.max()-colored_squares.min())\n",
    "\n",
    "    ## Pass them through the model\n",
    "    outputs = model.predict(colored_squares)\n",
    "\n",
    "    ## Get the readouts as the distance to the background color\n",
    "    readouts = (outputs-outputs[idx_bg])**2\n",
    "    readouts = np.sqrt(np.sum(readouts.reshape(N,-1), axis=-1))\n",
    "    signs = np.ones_like(readouts)\n",
    "    signs[:idx_bg] = -1\n",
    "    readouts = readouts*signs\n",
    "\n",
    "    ## Store them in all_readouts\n",
    "    all_readouts[idx_bg] = readouts"
   ]
  },
  {
   "cell_type": "markdown",
   "metadata": {},
   "source": [
    "Plot the results:"
   ]
  },
  {
   "cell_type": "code",
   "execution_count": 13,
   "metadata": {},
   "outputs": [
    {
     "data": {
      "image/png": "[encoded data removed]",
      "text/plain": [
       "<Figure size 432x288 with 1 Axes>"
      ]
     },
     "metadata": {
      "needs_background": "light"
     },
     "output_type": "display_data"
    }
   ],
   "source": [
    "plt.figure()\n",
    "for i, readout in enumerate(all_readouts):\n",
    "    plt.plot(readout, label=i)\n",
    "plt.legend()\n",
    "plt.show()"
   ]
  }
 ],
 "metadata": {
  "interpreter": {
   "hash": "0e5e7d3ec6da8cae83531001485d926ded04fa3b6e3dfe28c110c78c0ec74159"
  },
  "kernelspec": {
   "display_name": "Python 3.8.12 ('tf26')",
   "language": "python",
   "name": "python3"
  },
  "language_info": {
   "codemirror_mode": {
    "name": "ipython",
    "version": 3
   },
   "file_extension": ".py",
   "mimetype": "text/x-python",
   "name": "python",
   "nbconvert_exporter": "python",
   "pygments_lexer": "ipython3",
   "version": "3.8.12"
  },
  "orig_nbformat": 4
 },
 "nbformat": 4,
 "nbformat_minor": 2
}
